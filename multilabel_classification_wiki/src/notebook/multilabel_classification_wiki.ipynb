{
 "cells": [
  {
   "cell_type": "code",
   "execution_count": 44,
   "id": "75610f71",
   "metadata": {},
   "outputs": [],
   "source": [
    "import pandas as pd\n",
    "import numpy as np\n",
    "import re\n",
    "import itertools"
   ]
  },
  {
   "cell_type": "code",
   "execution_count": 45,
   "id": "1ccaf8fc",
   "metadata": {},
   "outputs": [],
   "source": [
    "data = pd.read_csv('../../data/wiki_movie_plots_deduped.csv')"
   ]
  },
  {
   "cell_type": "code",
   "execution_count": 46,
   "id": "4adf8b50",
   "metadata": {},
   "outputs": [
    {
     "data": {
      "text/html": [
       "<div>\n",
       "<style scoped>\n",
       "    .dataframe tbody tr th:only-of-type {\n",
       "        vertical-align: middle;\n",
       "    }\n",
       "\n",
       "    .dataframe tbody tr th {\n",
       "        vertical-align: top;\n",
       "    }\n",
       "\n",
       "    .dataframe thead th {\n",
       "        text-align: right;\n",
       "    }\n",
       "</style>\n",
       "<table border=\"1\" class=\"dataframe\">\n",
       "  <thead>\n",
       "    <tr style=\"text-align: right;\">\n",
       "      <th></th>\n",
       "      <th>Release Year</th>\n",
       "      <th>Title</th>\n",
       "      <th>Origin/Ethnicity</th>\n",
       "      <th>Director</th>\n",
       "      <th>Cast</th>\n",
       "      <th>Genre</th>\n",
       "      <th>Wiki Page</th>\n",
       "      <th>Plot</th>\n",
       "    </tr>\n",
       "  </thead>\n",
       "  <tbody>\n",
       "    <tr>\n",
       "      <th>0</th>\n",
       "      <td>1901</td>\n",
       "      <td>Kansas Saloon Smashers</td>\n",
       "      <td>American</td>\n",
       "      <td>Unknown</td>\n",
       "      <td>NaN</td>\n",
       "      <td>unknown</td>\n",
       "      <td>https://en.wikipedia.org/wiki/Kansas_Saloon_Sm...</td>\n",
       "      <td>A bartender is working at a saloon, serving dr...</td>\n",
       "    </tr>\n",
       "    <tr>\n",
       "      <th>1</th>\n",
       "      <td>1901</td>\n",
       "      <td>Love by the Light of the Moon</td>\n",
       "      <td>American</td>\n",
       "      <td>Unknown</td>\n",
       "      <td>NaN</td>\n",
       "      <td>unknown</td>\n",
       "      <td>https://en.wikipedia.org/wiki/Love_by_the_Ligh...</td>\n",
       "      <td>The moon, painted with a smiling face hangs ov...</td>\n",
       "    </tr>\n",
       "    <tr>\n",
       "      <th>2</th>\n",
       "      <td>1901</td>\n",
       "      <td>The Martyred Presidents</td>\n",
       "      <td>American</td>\n",
       "      <td>Unknown</td>\n",
       "      <td>NaN</td>\n",
       "      <td>unknown</td>\n",
       "      <td>https://en.wikipedia.org/wiki/The_Martyred_Pre...</td>\n",
       "      <td>The film, just over a minute long, is composed...</td>\n",
       "    </tr>\n",
       "    <tr>\n",
       "      <th>3</th>\n",
       "      <td>1901</td>\n",
       "      <td>Terrible Teddy, the Grizzly King</td>\n",
       "      <td>American</td>\n",
       "      <td>Unknown</td>\n",
       "      <td>NaN</td>\n",
       "      <td>unknown</td>\n",
       "      <td>https://en.wikipedia.org/wiki/Terrible_Teddy,_...</td>\n",
       "      <td>Lasting just 61 seconds and consisting of two ...</td>\n",
       "    </tr>\n",
       "    <tr>\n",
       "      <th>4</th>\n",
       "      <td>1902</td>\n",
       "      <td>Jack and the Beanstalk</td>\n",
       "      <td>American</td>\n",
       "      <td>George S. Fleming, Edwin S. Porter</td>\n",
       "      <td>NaN</td>\n",
       "      <td>unknown</td>\n",
       "      <td>https://en.wikipedia.org/wiki/Jack_and_the_Bea...</td>\n",
       "      <td>The earliest known adaptation of the classic f...</td>\n",
       "    </tr>\n",
       "  </tbody>\n",
       "</table>\n",
       "</div>"
      ],
      "text/plain": [
       "   Release Year                             Title Origin/Ethnicity  \\\n",
       "0          1901            Kansas Saloon Smashers         American   \n",
       "1          1901     Love by the Light of the Moon         American   \n",
       "2          1901           The Martyred Presidents         American   \n",
       "3          1901  Terrible Teddy, the Grizzly King         American   \n",
       "4          1902            Jack and the Beanstalk         American   \n",
       "\n",
       "                             Director Cast    Genre  \\\n",
       "0                             Unknown  NaN  unknown   \n",
       "1                             Unknown  NaN  unknown   \n",
       "2                             Unknown  NaN  unknown   \n",
       "3                             Unknown  NaN  unknown   \n",
       "4  George S. Fleming, Edwin S. Porter  NaN  unknown   \n",
       "\n",
       "                                           Wiki Page  \\\n",
       "0  https://en.wikipedia.org/wiki/Kansas_Saloon_Sm...   \n",
       "1  https://en.wikipedia.org/wiki/Love_by_the_Ligh...   \n",
       "2  https://en.wikipedia.org/wiki/The_Martyred_Pre...   \n",
       "3  https://en.wikipedia.org/wiki/Terrible_Teddy,_...   \n",
       "4  https://en.wikipedia.org/wiki/Jack_and_the_Bea...   \n",
       "\n",
       "                                                Plot  \n",
       "0  A bartender is working at a saloon, serving dr...  \n",
       "1  The moon, painted with a smiling face hangs ov...  \n",
       "2  The film, just over a minute long, is composed...  \n",
       "3  Lasting just 61 seconds and consisting of two ...  \n",
       "4  The earliest known adaptation of the classic f...  "
      ]
     },
     "execution_count": 46,
     "metadata": {},
     "output_type": "execute_result"
    }
   ],
   "source": [
    "data.head()"
   ]
  },
  {
   "cell_type": "code",
   "execution_count": 47,
   "id": "aac8b74c",
   "metadata": {},
   "outputs": [
    {
     "data": {
      "text/plain": [
       "(34886, 8)"
      ]
     },
     "execution_count": 47,
     "metadata": {},
     "output_type": "execute_result"
    }
   ],
   "source": [
    "data.shape"
   ]
  },
  {
   "cell_type": "code",
   "execution_count": 48,
   "id": "d915b612",
   "metadata": {},
   "outputs": [
    {
     "data": {
      "text/plain": [
       "'https://en.wikipedia.org/wiki/Should_a_Woman_Divorce%3F'"
      ]
     },
     "execution_count": 48,
     "metadata": {},
     "output_type": "execute_result"
    }
   ],
   "source": [
    "data.iloc[100]['Wiki Page']"
   ]
  },
  {
   "cell_type": "code",
   "execution_count": 49,
   "id": "d27cd1b2",
   "metadata": {},
   "outputs": [
    {
     "data": {
      "text/plain": [
       "'Should a Woman Divorce?'"
      ]
     },
     "execution_count": 49,
     "metadata": {},
     "output_type": "execute_result"
    }
   ],
   "source": [
    "data.iloc[100]['Title']"
   ]
  },
  {
   "cell_type": "code",
   "execution_count": 50,
   "id": "e90900df",
   "metadata": {},
   "outputs": [
    {
     "data": {
      "text/plain": [
       "array(['unknown', 'western', 'comedy', ...,\n",
       "       'adventure, romance, fantasy film', 'ero',\n",
       "       'horror romantic comedy'], dtype=object)"
      ]
     },
     "execution_count": 50,
     "metadata": {},
     "output_type": "execute_result"
    }
   ],
   "source": [
    "data['Genre'].unique()"
   ]
  },
  {
   "cell_type": "code",
   "execution_count": 51,
   "id": "4d2f7188",
   "metadata": {},
   "outputs": [
    {
     "data": {
      "text/plain": [
       "unknown                          6083\n",
       "drama                            5964\n",
       "comedy                           4379\n",
       "horror                           1167\n",
       "action                           1098\n",
       "                                 ... \n",
       "cbc-tv miniseries                   1\n",
       "bio-drama                           1\n",
       "national film board docudrama       1\n",
       "cult drama                          1\n",
       "horror romantic comedy              1\n",
       "Name: Genre, Length: 2265, dtype: int64"
      ]
     },
     "execution_count": 51,
     "metadata": {},
     "output_type": "execute_result"
    }
   ],
   "source": [
    "data['Genre'].value_counts()"
   ]
  },
  {
   "cell_type": "code",
   "execution_count": 52,
   "id": "40caafa1",
   "metadata": {},
   "outputs": [
    {
     "data": {
      "text/plain": [
       "Release Year        2450\n",
       "Title               2450\n",
       "Origin/Ethnicity    2450\n",
       "Director            2450\n",
       "Cast                2419\n",
       "Genre               2450\n",
       "Wiki Page           2450\n",
       "Plot                2450\n",
       "dtype: int64"
      ]
     },
     "execution_count": 52,
     "metadata": {},
     "output_type": "execute_result"
    }
   ],
   "source": [
    "data[data['Genre'].str.contains('action',case=False)].count()"
   ]
  },
  {
   "cell_type": "code",
   "execution_count": 53,
   "id": "4493b9a5",
   "metadata": {},
   "outputs": [
    {
     "data": {
      "text/plain": [
       "5"
      ]
     },
     "execution_count": 53,
     "metadata": {},
     "output_type": "execute_result"
    }
   ],
   "source": [
    "len(data[data['Genre'] == 'tokusatsu, action, sci-fi'])"
   ]
  },
  {
   "cell_type": "code",
   "execution_count": 54,
   "id": "74cf07a3",
   "metadata": {},
   "outputs": [],
   "source": [
    "basic_genre = pd.read_excel(\"../../data/wiki_movie_plots_deduped_basic_genre.xlsx\",sheet_name='basic_genre_list')"
   ]
  },
  {
   "cell_type": "code",
   "execution_count": 55,
   "id": "2573cf20",
   "metadata": {},
   "outputs": [
    {
     "data": {
      "text/plain": [
       "0              action/gangster\n",
       "1                       comedy\n",
       "2       sci-fi/science fiction\n",
       "3        romance/love/romantic\n",
       "4                    adventure\n",
       "                ...           \n",
       "64    post-apocalyptic, zombie\n",
       "65                   espionage\n",
       "66              counterculture\n",
       "67             socio-political\n",
       "68                     tragedy\n",
       "Name: basic - genre, Length: 69, dtype: object"
      ]
     },
     "execution_count": 55,
     "metadata": {},
     "output_type": "execute_result"
    }
   ],
   "source": [
    "genre_list = basic_genre['basic - genre'].str.rstrip().str.lstrip().str.lower()\n",
    "genre_list"
   ]
  },
  {
   "cell_type": "code",
   "execution_count": 56,
   "id": "956e012e",
   "metadata": {},
   "outputs": [],
   "source": [
    "new_genre_list = list(set(itertools.chain.from_iterable(genre_list.str.split('/').tolist()))) #.values.ravel()\n",
    "new_genre_list = [i.rstrip().lstrip() for i in new_genre_list]"
   ]
  },
  {
   "cell_type": "code",
   "execution_count": 57,
   "id": "776d7c55",
   "metadata": {},
   "outputs": [
    {
     "name": "stdout",
     "output_type": "stream",
     "text": [
      "['bio-drama', 'family', 'american football', 'social', 'spy', 'sexploitation', 'fantasy', 'musical', 'shakespearean', 'anthology', 'survival', 'reality', 'biographical', 'comedy', 'road', 'fighting', 'neo-noir', 'crime', 'drama', 'suspense', 'film noir', 'patriotic', 'sword', 'tragedy', 'superhero', 'period film', 'historical', 'buddy cop, supernatural', 'serial', 'entertainer', 'fantay', 'slahser', 'detective', 'adult', 'costume', 'samurai', 'art', 'romance', 'disaster', 'cartoon', 'love', 'adaptation', 'romantic', 'mythology', 'muslim social', 'teen', 'concert', 'bio-pic', 'spoof', 'animated', 'horror', 'socio-political', 'espionage', 'mockumentary', 'parody', 'action', 'counterculture', 'epic', 'slapstick', 'biopic', 'martial-arts', 'music', 'short', 'independent', 'sci-fi', 'travel', 'gangster', 'children', 'buddy cop', 'satire', 'sports', 'western', 'anime', 'nature documentary', 'rom com', 'animation', 'ancient-costume', 'semi-staged documentary', 'dramedy', 'war', 'miniseries', 'mystery', 'period', \"children's\", 'historic', 'religious', 'classic muslim social', 'biography', 'thriller', 'adventure', 'devotional', 'documentary', 'history', 'compilation', 'swashbuckler', 'science fiction', 'martial arts', 'outlaw biker film', 'dance', 'educational', 'post-apocalyptic, zombie', 'kung fu', 'exploitation']\n"
     ]
    }
   ],
   "source": [
    "print(new_genre_list)"
   ]
  },
  {
   "cell_type": "code",
   "execution_count": 58,
   "id": "8142df64",
   "metadata": {},
   "outputs": [
    {
     "data": {
      "text/html": [
       "<div>\n",
       "<style scoped>\n",
       "    .dataframe tbody tr th:only-of-type {\n",
       "        vertical-align: middle;\n",
       "    }\n",
       "\n",
       "    .dataframe tbody tr th {\n",
       "        vertical-align: top;\n",
       "    }\n",
       "\n",
       "    .dataframe thead th {\n",
       "        text-align: right;\n",
       "    }\n",
       "</style>\n",
       "<table border=\"1\" class=\"dataframe\">\n",
       "  <thead>\n",
       "    <tr style=\"text-align: right;\">\n",
       "      <th></th>\n",
       "      <th>Genre</th>\n",
       "      <th>Title</th>\n",
       "      <th>Plot</th>\n",
       "    </tr>\n",
       "  </thead>\n",
       "  <tbody>\n",
       "    <tr>\n",
       "      <th>0</th>\n",
       "      <td>unknown</td>\n",
       "      <td>Kansas Saloon Smashers</td>\n",
       "      <td>A bartender is working at a saloon, serving dr...</td>\n",
       "    </tr>\n",
       "    <tr>\n",
       "      <th>1</th>\n",
       "      <td>unknown</td>\n",
       "      <td>Love by the Light of the Moon</td>\n",
       "      <td>The moon, painted with a smiling face hangs ov...</td>\n",
       "    </tr>\n",
       "    <tr>\n",
       "      <th>2</th>\n",
       "      <td>unknown</td>\n",
       "      <td>The Martyred Presidents</td>\n",
       "      <td>The film, just over a minute long, is composed...</td>\n",
       "    </tr>\n",
       "    <tr>\n",
       "      <th>3</th>\n",
       "      <td>unknown</td>\n",
       "      <td>Terrible Teddy, the Grizzly King</td>\n",
       "      <td>Lasting just 61 seconds and consisting of two ...</td>\n",
       "    </tr>\n",
       "    <tr>\n",
       "      <th>4</th>\n",
       "      <td>unknown</td>\n",
       "      <td>Jack and the Beanstalk</td>\n",
       "      <td>The earliest known adaptation of the classic f...</td>\n",
       "    </tr>\n",
       "    <tr>\n",
       "      <th>...</th>\n",
       "      <td>...</td>\n",
       "      <td>...</td>\n",
       "      <td>...</td>\n",
       "    </tr>\n",
       "    <tr>\n",
       "      <th>34881</th>\n",
       "      <td>unknown</td>\n",
       "      <td>The Water Diviner</td>\n",
       "      <td>The film begins in 1919, just after World War ...</td>\n",
       "    </tr>\n",
       "    <tr>\n",
       "      <th>34882</th>\n",
       "      <td>comedy</td>\n",
       "      <td>Çalgı Çengi İkimiz</td>\n",
       "      <td>Two musicians, Salih and Gürkan, described the...</td>\n",
       "    </tr>\n",
       "    <tr>\n",
       "      <th>34883</th>\n",
       "      <td>comedy</td>\n",
       "      <td>Olanlar Oldu</td>\n",
       "      <td>Zafer, a sailor living with his mother Döndü i...</td>\n",
       "    </tr>\n",
       "    <tr>\n",
       "      <th>34884</th>\n",
       "      <td>romantic comedy</td>\n",
       "      <td>Non-Transferable</td>\n",
       "      <td>The film centres around a young woman named Am...</td>\n",
       "    </tr>\n",
       "    <tr>\n",
       "      <th>34885</th>\n",
       "      <td>romantic</td>\n",
       "      <td>İstanbul Kırmızısı</td>\n",
       "      <td>The writer Orhan Şahin returns to İstanbul aft...</td>\n",
       "    </tr>\n",
       "  </tbody>\n",
       "</table>\n",
       "<p>34886 rows × 3 columns</p>\n",
       "</div>"
      ],
      "text/plain": [
       "                 Genre                             Title  \\\n",
       "0              unknown            Kansas Saloon Smashers   \n",
       "1              unknown     Love by the Light of the Moon   \n",
       "2              unknown           The Martyred Presidents   \n",
       "3              unknown  Terrible Teddy, the Grizzly King   \n",
       "4              unknown            Jack and the Beanstalk   \n",
       "...                ...                               ...   \n",
       "34881          unknown                 The Water Diviner   \n",
       "34882           comedy                Çalgı Çengi İkimiz   \n",
       "34883           comedy                      Olanlar Oldu   \n",
       "34884  romantic comedy                  Non-Transferable   \n",
       "34885         romantic                İstanbul Kırmızısı   \n",
       "\n",
       "                                                    Plot  \n",
       "0      A bartender is working at a saloon, serving dr...  \n",
       "1      The moon, painted with a smiling face hangs ov...  \n",
       "2      The film, just over a minute long, is composed...  \n",
       "3      Lasting just 61 seconds and consisting of two ...  \n",
       "4      The earliest known adaptation of the classic f...  \n",
       "...                                                  ...  \n",
       "34881  The film begins in 1919, just after World War ...  \n",
       "34882  Two musicians, Salih and Gürkan, described the...  \n",
       "34883  Zafer, a sailor living with his mother Döndü i...  \n",
       "34884  The film centres around a young woman named Am...  \n",
       "34885  The writer Orhan Şahin returns to İstanbul aft...  \n",
       "\n",
       "[34886 rows x 3 columns]"
      ]
     },
     "execution_count": 58,
     "metadata": {},
     "output_type": "execute_result"
    }
   ],
   "source": [
    "genre_mhe = data[['Genre','Title','Plot']]\n",
    "genre_mhe"
   ]
  },
  {
   "cell_type": "code",
   "execution_count": 59,
   "id": "9126299d",
   "metadata": {},
   "outputs": [
    {
     "name": "stderr",
     "output_type": "stream",
     "text": [
      "C:\\Users\\varsh\\AppData\\Local\\Temp\\ipykernel_25996\\1287742737.py:3: SettingWithCopyWarning: \n",
      "A value is trying to be set on a copy of a slice from a DataFrame.\n",
      "Try using .loc[row_indexer,col_indexer] = value instead\n",
      "\n",
      "See the caveats in the documentation: https://pandas.pydata.org/pandas-docs/stable/user_guide/indexing.html#returning-a-view-versus-a-copy\n",
      "  genre_mhe.loc[ind,genre] = 1\n",
      "C:\\Users\\varsh\\AppData\\Local\\Temp\\ipykernel_25996\\1287742737.py:3: SettingWithCopyWarning: \n",
      "A value is trying to be set on a copy of a slice from a DataFrame.\n",
      "Try using .loc[row_indexer,col_indexer] = value instead\n",
      "\n",
      "See the caveats in the documentation: https://pandas.pydata.org/pandas-docs/stable/user_guide/indexing.html#returning-a-view-versus-a-copy\n",
      "  genre_mhe.loc[ind,genre] = 1\n",
      "C:\\Users\\varsh\\AppData\\Local\\Temp\\ipykernel_25996\\1287742737.py:3: SettingWithCopyWarning: \n",
      "A value is trying to be set on a copy of a slice from a DataFrame.\n",
      "Try using .loc[row_indexer,col_indexer] = value instead\n",
      "\n",
      "See the caveats in the documentation: https://pandas.pydata.org/pandas-docs/stable/user_guide/indexing.html#returning-a-view-versus-a-copy\n",
      "  genre_mhe.loc[ind,genre] = 1\n",
      "C:\\Users\\varsh\\AppData\\Local\\Temp\\ipykernel_25996\\1287742737.py:3: SettingWithCopyWarning: \n",
      "A value is trying to be set on a copy of a slice from a DataFrame.\n",
      "Try using .loc[row_indexer,col_indexer] = value instead\n",
      "\n",
      "See the caveats in the documentation: https://pandas.pydata.org/pandas-docs/stable/user_guide/indexing.html#returning-a-view-versus-a-copy\n",
      "  genre_mhe.loc[ind,genre] = 1\n"
     ]
    }
   ],
   "source": [
    "for genre in new_genre_list:\n",
    "    ind = genre_mhe[genre_mhe['Genre'].str.contains(genre,case = False)].index\n",
    "    genre_mhe.loc[ind,genre] = 1\n",
    "    "
   ]
  },
  {
   "cell_type": "code",
   "execution_count": 60,
   "id": "0e8bd1c6",
   "metadata": {},
   "outputs": [
    {
     "data": {
      "text/plain": [
       "Index(['Genre', 'Title', 'Plot', 'bio-drama', 'family', 'american football',\n",
       "       'social', 'spy', 'sexploitation', 'fantasy',\n",
       "       ...\n",
       "       'compilation', 'swashbuckler', 'science fiction', 'martial arts',\n",
       "       'outlaw biker film', 'dance', 'educational', 'post-apocalyptic, zombie',\n",
       "       'kung fu', 'exploitation'],\n",
       "      dtype='object', length=106)"
      ]
     },
     "execution_count": 60,
     "metadata": {},
     "output_type": "execute_result"
    }
   ],
   "source": [
    "genre_mhe.columns"
   ]
  },
  {
   "cell_type": "code",
   "execution_count": 61,
   "id": "7a4d2659",
   "metadata": {},
   "outputs": [
    {
     "data": {
      "text/plain": [
       "19"
      ]
     },
     "execution_count": 61,
     "metadata": {},
     "output_type": "execute_result"
    }
   ],
   "source": [
    "len(genre_mhe) - genre_mhe['devotional'].isna().sum()"
   ]
  },
  {
   "cell_type": "code",
   "execution_count": 62,
   "id": "3888036b",
   "metadata": {},
   "outputs": [
    {
     "data": {
      "text/plain": [
       "Int64Index([    0,     1,     2,     3,     4,     5,     8,     9,    25,\n",
       "               27,\n",
       "            ...\n",
       "            34823, 34826, 34827, 34828, 34830, 34836, 34878, 34879, 34880,\n",
       "            34881],\n",
       "           dtype='int64', length=6450)"
      ]
     },
     "execution_count": 62,
     "metadata": {},
     "output_type": "execute_result"
    }
   ],
   "source": [
    "nan_ind = genre_mhe[genre_mhe.drop(['Genre','Title','Plot'],axis = 1).isna().all(axis = 1)].index\n",
    "nan_ind"
   ]
  },
  {
   "cell_type": "code",
   "execution_count": 63,
   "id": "207b62c0",
   "metadata": {},
   "outputs": [
    {
     "data": {
      "text/html": [
       "<div>\n",
       "<style scoped>\n",
       "    .dataframe tbody tr th:only-of-type {\n",
       "        vertical-align: middle;\n",
       "    }\n",
       "\n",
       "    .dataframe tbody tr th {\n",
       "        vertical-align: top;\n",
       "    }\n",
       "\n",
       "    .dataframe thead th {\n",
       "        text-align: right;\n",
       "    }\n",
       "</style>\n",
       "<table border=\"1\" class=\"dataframe\">\n",
       "  <thead>\n",
       "    <tr style=\"text-align: right;\">\n",
       "      <th></th>\n",
       "      <th>Genre</th>\n",
       "      <th>Title</th>\n",
       "      <th>Plot</th>\n",
       "      <th>bio-drama</th>\n",
       "      <th>family</th>\n",
       "      <th>american football</th>\n",
       "      <th>social</th>\n",
       "      <th>spy</th>\n",
       "      <th>sexploitation</th>\n",
       "      <th>fantasy</th>\n",
       "      <th>...</th>\n",
       "      <th>compilation</th>\n",
       "      <th>swashbuckler</th>\n",
       "      <th>science fiction</th>\n",
       "      <th>martial arts</th>\n",
       "      <th>outlaw biker film</th>\n",
       "      <th>dance</th>\n",
       "      <th>educational</th>\n",
       "      <th>post-apocalyptic, zombie</th>\n",
       "      <th>kung fu</th>\n",
       "      <th>exploitation</th>\n",
       "    </tr>\n",
       "  </thead>\n",
       "  <tbody>\n",
       "    <tr>\n",
       "      <th>0</th>\n",
       "      <td>unknown</td>\n",
       "      <td>Kansas Saloon Smashers</td>\n",
       "      <td>A bartender is working at a saloon, serving dr...</td>\n",
       "      <td>NaN</td>\n",
       "      <td>NaN</td>\n",
       "      <td>NaN</td>\n",
       "      <td>NaN</td>\n",
       "      <td>NaN</td>\n",
       "      <td>NaN</td>\n",
       "      <td>NaN</td>\n",
       "      <td>...</td>\n",
       "      <td>NaN</td>\n",
       "      <td>NaN</td>\n",
       "      <td>NaN</td>\n",
       "      <td>NaN</td>\n",
       "      <td>NaN</td>\n",
       "      <td>NaN</td>\n",
       "      <td>NaN</td>\n",
       "      <td>NaN</td>\n",
       "      <td>NaN</td>\n",
       "      <td>NaN</td>\n",
       "    </tr>\n",
       "    <tr>\n",
       "      <th>1</th>\n",
       "      <td>unknown</td>\n",
       "      <td>Love by the Light of the Moon</td>\n",
       "      <td>The moon, painted with a smiling face hangs ov...</td>\n",
       "      <td>NaN</td>\n",
       "      <td>NaN</td>\n",
       "      <td>NaN</td>\n",
       "      <td>NaN</td>\n",
       "      <td>NaN</td>\n",
       "      <td>NaN</td>\n",
       "      <td>NaN</td>\n",
       "      <td>...</td>\n",
       "      <td>NaN</td>\n",
       "      <td>NaN</td>\n",
       "      <td>NaN</td>\n",
       "      <td>NaN</td>\n",
       "      <td>NaN</td>\n",
       "      <td>NaN</td>\n",
       "      <td>NaN</td>\n",
       "      <td>NaN</td>\n",
       "      <td>NaN</td>\n",
       "      <td>NaN</td>\n",
       "    </tr>\n",
       "    <tr>\n",
       "      <th>2</th>\n",
       "      <td>unknown</td>\n",
       "      <td>The Martyred Presidents</td>\n",
       "      <td>The film, just over a minute long, is composed...</td>\n",
       "      <td>NaN</td>\n",
       "      <td>NaN</td>\n",
       "      <td>NaN</td>\n",
       "      <td>NaN</td>\n",
       "      <td>NaN</td>\n",
       "      <td>NaN</td>\n",
       "      <td>NaN</td>\n",
       "      <td>...</td>\n",
       "      <td>NaN</td>\n",
       "      <td>NaN</td>\n",
       "      <td>NaN</td>\n",
       "      <td>NaN</td>\n",
       "      <td>NaN</td>\n",
       "      <td>NaN</td>\n",
       "      <td>NaN</td>\n",
       "      <td>NaN</td>\n",
       "      <td>NaN</td>\n",
       "      <td>NaN</td>\n",
       "    </tr>\n",
       "    <tr>\n",
       "      <th>3</th>\n",
       "      <td>unknown</td>\n",
       "      <td>Terrible Teddy, the Grizzly King</td>\n",
       "      <td>Lasting just 61 seconds and consisting of two ...</td>\n",
       "      <td>NaN</td>\n",
       "      <td>NaN</td>\n",
       "      <td>NaN</td>\n",
       "      <td>NaN</td>\n",
       "      <td>NaN</td>\n",
       "      <td>NaN</td>\n",
       "      <td>NaN</td>\n",
       "      <td>...</td>\n",
       "      <td>NaN</td>\n",
       "      <td>NaN</td>\n",
       "      <td>NaN</td>\n",
       "      <td>NaN</td>\n",
       "      <td>NaN</td>\n",
       "      <td>NaN</td>\n",
       "      <td>NaN</td>\n",
       "      <td>NaN</td>\n",
       "      <td>NaN</td>\n",
       "      <td>NaN</td>\n",
       "    </tr>\n",
       "    <tr>\n",
       "      <th>4</th>\n",
       "      <td>unknown</td>\n",
       "      <td>Jack and the Beanstalk</td>\n",
       "      <td>The earliest known adaptation of the classic f...</td>\n",
       "      <td>NaN</td>\n",
       "      <td>NaN</td>\n",
       "      <td>NaN</td>\n",
       "      <td>NaN</td>\n",
       "      <td>NaN</td>\n",
       "      <td>NaN</td>\n",
       "      <td>NaN</td>\n",
       "      <td>...</td>\n",
       "      <td>NaN</td>\n",
       "      <td>NaN</td>\n",
       "      <td>NaN</td>\n",
       "      <td>NaN</td>\n",
       "      <td>NaN</td>\n",
       "      <td>NaN</td>\n",
       "      <td>NaN</td>\n",
       "      <td>NaN</td>\n",
       "      <td>NaN</td>\n",
       "      <td>NaN</td>\n",
       "    </tr>\n",
       "    <tr>\n",
       "      <th>...</th>\n",
       "      <td>...</td>\n",
       "      <td>...</td>\n",
       "      <td>...</td>\n",
       "      <td>...</td>\n",
       "      <td>...</td>\n",
       "      <td>...</td>\n",
       "      <td>...</td>\n",
       "      <td>...</td>\n",
       "      <td>...</td>\n",
       "      <td>...</td>\n",
       "      <td>...</td>\n",
       "      <td>...</td>\n",
       "      <td>...</td>\n",
       "      <td>...</td>\n",
       "      <td>...</td>\n",
       "      <td>...</td>\n",
       "      <td>...</td>\n",
       "      <td>...</td>\n",
       "      <td>...</td>\n",
       "      <td>...</td>\n",
       "      <td>...</td>\n",
       "    </tr>\n",
       "    <tr>\n",
       "      <th>34836</th>\n",
       "      <td>unknown</td>\n",
       "      <td>Orada</td>\n",
       "      <td>When the matriarch of an Istanbul family dies ...</td>\n",
       "      <td>NaN</td>\n",
       "      <td>NaN</td>\n",
       "      <td>NaN</td>\n",
       "      <td>NaN</td>\n",
       "      <td>NaN</td>\n",
       "      <td>NaN</td>\n",
       "      <td>NaN</td>\n",
       "      <td>...</td>\n",
       "      <td>NaN</td>\n",
       "      <td>NaN</td>\n",
       "      <td>NaN</td>\n",
       "      <td>NaN</td>\n",
       "      <td>NaN</td>\n",
       "      <td>NaN</td>\n",
       "      <td>NaN</td>\n",
       "      <td>NaN</td>\n",
       "      <td>NaN</td>\n",
       "      <td>NaN</td>\n",
       "    </tr>\n",
       "    <tr>\n",
       "      <th>34878</th>\n",
       "      <td>unknown</td>\n",
       "      <td>Mandıra Filozofu</td>\n",
       "      <td>Cavit an ambitious industralist in İstanbul pl...</td>\n",
       "      <td>NaN</td>\n",
       "      <td>NaN</td>\n",
       "      <td>NaN</td>\n",
       "      <td>NaN</td>\n",
       "      <td>NaN</td>\n",
       "      <td>NaN</td>\n",
       "      <td>NaN</td>\n",
       "      <td>...</td>\n",
       "      <td>NaN</td>\n",
       "      <td>NaN</td>\n",
       "      <td>NaN</td>\n",
       "      <td>NaN</td>\n",
       "      <td>NaN</td>\n",
       "      <td>NaN</td>\n",
       "      <td>NaN</td>\n",
       "      <td>NaN</td>\n",
       "      <td>NaN</td>\n",
       "      <td>NaN</td>\n",
       "    </tr>\n",
       "    <tr>\n",
       "      <th>34879</th>\n",
       "      <td>unknown</td>\n",
       "      <td>Winter Sleep</td>\n",
       "      <td>Aydın, a former actor, owns a mountaintop hote...</td>\n",
       "      <td>NaN</td>\n",
       "      <td>NaN</td>\n",
       "      <td>NaN</td>\n",
       "      <td>NaN</td>\n",
       "      <td>NaN</td>\n",
       "      <td>NaN</td>\n",
       "      <td>NaN</td>\n",
       "      <td>...</td>\n",
       "      <td>NaN</td>\n",
       "      <td>NaN</td>\n",
       "      <td>NaN</td>\n",
       "      <td>NaN</td>\n",
       "      <td>NaN</td>\n",
       "      <td>NaN</td>\n",
       "      <td>NaN</td>\n",
       "      <td>NaN</td>\n",
       "      <td>NaN</td>\n",
       "      <td>NaN</td>\n",
       "    </tr>\n",
       "    <tr>\n",
       "      <th>34880</th>\n",
       "      <td>unknown</td>\n",
       "      <td>Sivas</td>\n",
       "      <td>The film follows an eleven-year-old boy named ...</td>\n",
       "      <td>NaN</td>\n",
       "      <td>NaN</td>\n",
       "      <td>NaN</td>\n",
       "      <td>NaN</td>\n",
       "      <td>NaN</td>\n",
       "      <td>NaN</td>\n",
       "      <td>NaN</td>\n",
       "      <td>...</td>\n",
       "      <td>NaN</td>\n",
       "      <td>NaN</td>\n",
       "      <td>NaN</td>\n",
       "      <td>NaN</td>\n",
       "      <td>NaN</td>\n",
       "      <td>NaN</td>\n",
       "      <td>NaN</td>\n",
       "      <td>NaN</td>\n",
       "      <td>NaN</td>\n",
       "      <td>NaN</td>\n",
       "    </tr>\n",
       "    <tr>\n",
       "      <th>34881</th>\n",
       "      <td>unknown</td>\n",
       "      <td>The Water Diviner</td>\n",
       "      <td>The film begins in 1919, just after World War ...</td>\n",
       "      <td>NaN</td>\n",
       "      <td>NaN</td>\n",
       "      <td>NaN</td>\n",
       "      <td>NaN</td>\n",
       "      <td>NaN</td>\n",
       "      <td>NaN</td>\n",
       "      <td>NaN</td>\n",
       "      <td>...</td>\n",
       "      <td>NaN</td>\n",
       "      <td>NaN</td>\n",
       "      <td>NaN</td>\n",
       "      <td>NaN</td>\n",
       "      <td>NaN</td>\n",
       "      <td>NaN</td>\n",
       "      <td>NaN</td>\n",
       "      <td>NaN</td>\n",
       "      <td>NaN</td>\n",
       "      <td>NaN</td>\n",
       "    </tr>\n",
       "  </tbody>\n",
       "</table>\n",
       "<p>6450 rows × 106 columns</p>\n",
       "</div>"
      ],
      "text/plain": [
       "         Genre                             Title  \\\n",
       "0      unknown            Kansas Saloon Smashers   \n",
       "1      unknown     Love by the Light of the Moon   \n",
       "2      unknown           The Martyred Presidents   \n",
       "3      unknown  Terrible Teddy, the Grizzly King   \n",
       "4      unknown            Jack and the Beanstalk   \n",
       "...        ...                               ...   \n",
       "34836  unknown                             Orada   \n",
       "34878  unknown                  Mandıra Filozofu   \n",
       "34879  unknown                      Winter Sleep   \n",
       "34880  unknown                             Sivas   \n",
       "34881  unknown                 The Water Diviner   \n",
       "\n",
       "                                                    Plot  bio-drama  family  \\\n",
       "0      A bartender is working at a saloon, serving dr...        NaN     NaN   \n",
       "1      The moon, painted with a smiling face hangs ov...        NaN     NaN   \n",
       "2      The film, just over a minute long, is composed...        NaN     NaN   \n",
       "3      Lasting just 61 seconds and consisting of two ...        NaN     NaN   \n",
       "4      The earliest known adaptation of the classic f...        NaN     NaN   \n",
       "...                                                  ...        ...     ...   \n",
       "34836  When the matriarch of an Istanbul family dies ...        NaN     NaN   \n",
       "34878  Cavit an ambitious industralist in İstanbul pl...        NaN     NaN   \n",
       "34879  Aydın, a former actor, owns a mountaintop hote...        NaN     NaN   \n",
       "34880  The film follows an eleven-year-old boy named ...        NaN     NaN   \n",
       "34881  The film begins in 1919, just after World War ...        NaN     NaN   \n",
       "\n",
       "       american football  social  spy  sexploitation  fantasy  ...  \\\n",
       "0                    NaN     NaN  NaN            NaN      NaN  ...   \n",
       "1                    NaN     NaN  NaN            NaN      NaN  ...   \n",
       "2                    NaN     NaN  NaN            NaN      NaN  ...   \n",
       "3                    NaN     NaN  NaN            NaN      NaN  ...   \n",
       "4                    NaN     NaN  NaN            NaN      NaN  ...   \n",
       "...                  ...     ...  ...            ...      ...  ...   \n",
       "34836                NaN     NaN  NaN            NaN      NaN  ...   \n",
       "34878                NaN     NaN  NaN            NaN      NaN  ...   \n",
       "34879                NaN     NaN  NaN            NaN      NaN  ...   \n",
       "34880                NaN     NaN  NaN            NaN      NaN  ...   \n",
       "34881                NaN     NaN  NaN            NaN      NaN  ...   \n",
       "\n",
       "       compilation  swashbuckler  science fiction  martial arts  \\\n",
       "0              NaN           NaN              NaN           NaN   \n",
       "1              NaN           NaN              NaN           NaN   \n",
       "2              NaN           NaN              NaN           NaN   \n",
       "3              NaN           NaN              NaN           NaN   \n",
       "4              NaN           NaN              NaN           NaN   \n",
       "...            ...           ...              ...           ...   \n",
       "34836          NaN           NaN              NaN           NaN   \n",
       "34878          NaN           NaN              NaN           NaN   \n",
       "34879          NaN           NaN              NaN           NaN   \n",
       "34880          NaN           NaN              NaN           NaN   \n",
       "34881          NaN           NaN              NaN           NaN   \n",
       "\n",
       "       outlaw biker film  dance  educational  post-apocalyptic, zombie  \\\n",
       "0                    NaN    NaN          NaN                       NaN   \n",
       "1                    NaN    NaN          NaN                       NaN   \n",
       "2                    NaN    NaN          NaN                       NaN   \n",
       "3                    NaN    NaN          NaN                       NaN   \n",
       "4                    NaN    NaN          NaN                       NaN   \n",
       "...                  ...    ...          ...                       ...   \n",
       "34836                NaN    NaN          NaN                       NaN   \n",
       "34878                NaN    NaN          NaN                       NaN   \n",
       "34879                NaN    NaN          NaN                       NaN   \n",
       "34880                NaN    NaN          NaN                       NaN   \n",
       "34881                NaN    NaN          NaN                       NaN   \n",
       "\n",
       "       kung fu  exploitation  \n",
       "0          NaN           NaN  \n",
       "1          NaN           NaN  \n",
       "2          NaN           NaN  \n",
       "3          NaN           NaN  \n",
       "4          NaN           NaN  \n",
       "...        ...           ...  \n",
       "34836      NaN           NaN  \n",
       "34878      NaN           NaN  \n",
       "34879      NaN           NaN  \n",
       "34880      NaN           NaN  \n",
       "34881      NaN           NaN  \n",
       "\n",
       "[6450 rows x 106 columns]"
      ]
     },
     "execution_count": 63,
     "metadata": {},
     "output_type": "execute_result"
    }
   ],
   "source": [
    "genre_mhe.loc[nan_ind]"
   ]
  },
  {
   "cell_type": "code",
   "execution_count": 64,
   "id": "e227acbf",
   "metadata": {},
   "outputs": [],
   "source": [
    "subset_genre_mhe = genre_mhe.loc[nan_ind]\n",
    "for genre in new_genre_list:\n",
    "    ind = subset_genre_mhe[subset_genre_mhe['Title'].str.contains(genre,case = False)].index\n",
    "    genre_mhe.loc[ind,genre] = 1"
   ]
  },
  {
   "cell_type": "code",
   "execution_count": 65,
   "id": "06781035",
   "metadata": {},
   "outputs": [
    {
     "data": {
      "text/html": [
       "<div>\n",
       "<style scoped>\n",
       "    .dataframe tbody tr th:only-of-type {\n",
       "        vertical-align: middle;\n",
       "    }\n",
       "\n",
       "    .dataframe tbody tr th {\n",
       "        vertical-align: top;\n",
       "    }\n",
       "\n",
       "    .dataframe thead th {\n",
       "        text-align: right;\n",
       "    }\n",
       "</style>\n",
       "<table border=\"1\" class=\"dataframe\">\n",
       "  <thead>\n",
       "    <tr style=\"text-align: right;\">\n",
       "      <th></th>\n",
       "      <th>Genre</th>\n",
       "      <th>Title</th>\n",
       "      <th>Plot</th>\n",
       "      <th>bio-drama</th>\n",
       "      <th>family</th>\n",
       "      <th>american football</th>\n",
       "      <th>social</th>\n",
       "      <th>spy</th>\n",
       "      <th>sexploitation</th>\n",
       "      <th>fantasy</th>\n",
       "      <th>...</th>\n",
       "      <th>compilation</th>\n",
       "      <th>swashbuckler</th>\n",
       "      <th>science fiction</th>\n",
       "      <th>martial arts</th>\n",
       "      <th>outlaw biker film</th>\n",
       "      <th>dance</th>\n",
       "      <th>educational</th>\n",
       "      <th>post-apocalyptic, zombie</th>\n",
       "      <th>kung fu</th>\n",
       "      <th>exploitation</th>\n",
       "    </tr>\n",
       "  </thead>\n",
       "  <tbody>\n",
       "    <tr>\n",
       "      <th>0</th>\n",
       "      <td>unknown</td>\n",
       "      <td>Kansas Saloon Smashers</td>\n",
       "      <td>A bartender is working at a saloon, serving dr...</td>\n",
       "      <td>NaN</td>\n",
       "      <td>NaN</td>\n",
       "      <td>NaN</td>\n",
       "      <td>NaN</td>\n",
       "      <td>NaN</td>\n",
       "      <td>NaN</td>\n",
       "      <td>NaN</td>\n",
       "      <td>...</td>\n",
       "      <td>NaN</td>\n",
       "      <td>NaN</td>\n",
       "      <td>NaN</td>\n",
       "      <td>NaN</td>\n",
       "      <td>NaN</td>\n",
       "      <td>NaN</td>\n",
       "      <td>NaN</td>\n",
       "      <td>NaN</td>\n",
       "      <td>NaN</td>\n",
       "      <td>NaN</td>\n",
       "    </tr>\n",
       "    <tr>\n",
       "      <th>1</th>\n",
       "      <td>unknown</td>\n",
       "      <td>Love by the Light of the Moon</td>\n",
       "      <td>The moon, painted with a smiling face hangs ov...</td>\n",
       "      <td>NaN</td>\n",
       "      <td>NaN</td>\n",
       "      <td>NaN</td>\n",
       "      <td>NaN</td>\n",
       "      <td>NaN</td>\n",
       "      <td>NaN</td>\n",
       "      <td>NaN</td>\n",
       "      <td>...</td>\n",
       "      <td>NaN</td>\n",
       "      <td>NaN</td>\n",
       "      <td>NaN</td>\n",
       "      <td>NaN</td>\n",
       "      <td>NaN</td>\n",
       "      <td>NaN</td>\n",
       "      <td>NaN</td>\n",
       "      <td>NaN</td>\n",
       "      <td>NaN</td>\n",
       "      <td>NaN</td>\n",
       "    </tr>\n",
       "    <tr>\n",
       "      <th>2</th>\n",
       "      <td>unknown</td>\n",
       "      <td>The Martyred Presidents</td>\n",
       "      <td>The film, just over a minute long, is composed...</td>\n",
       "      <td>NaN</td>\n",
       "      <td>NaN</td>\n",
       "      <td>NaN</td>\n",
       "      <td>NaN</td>\n",
       "      <td>NaN</td>\n",
       "      <td>NaN</td>\n",
       "      <td>NaN</td>\n",
       "      <td>...</td>\n",
       "      <td>NaN</td>\n",
       "      <td>NaN</td>\n",
       "      <td>NaN</td>\n",
       "      <td>NaN</td>\n",
       "      <td>NaN</td>\n",
       "      <td>NaN</td>\n",
       "      <td>NaN</td>\n",
       "      <td>NaN</td>\n",
       "      <td>NaN</td>\n",
       "      <td>NaN</td>\n",
       "    </tr>\n",
       "    <tr>\n",
       "      <th>3</th>\n",
       "      <td>unknown</td>\n",
       "      <td>Terrible Teddy, the Grizzly King</td>\n",
       "      <td>Lasting just 61 seconds and consisting of two ...</td>\n",
       "      <td>NaN</td>\n",
       "      <td>NaN</td>\n",
       "      <td>NaN</td>\n",
       "      <td>NaN</td>\n",
       "      <td>NaN</td>\n",
       "      <td>NaN</td>\n",
       "      <td>NaN</td>\n",
       "      <td>...</td>\n",
       "      <td>NaN</td>\n",
       "      <td>NaN</td>\n",
       "      <td>NaN</td>\n",
       "      <td>NaN</td>\n",
       "      <td>NaN</td>\n",
       "      <td>NaN</td>\n",
       "      <td>NaN</td>\n",
       "      <td>NaN</td>\n",
       "      <td>NaN</td>\n",
       "      <td>NaN</td>\n",
       "    </tr>\n",
       "    <tr>\n",
       "      <th>4</th>\n",
       "      <td>unknown</td>\n",
       "      <td>Jack and the Beanstalk</td>\n",
       "      <td>The earliest known adaptation of the classic f...</td>\n",
       "      <td>NaN</td>\n",
       "      <td>NaN</td>\n",
       "      <td>NaN</td>\n",
       "      <td>NaN</td>\n",
       "      <td>NaN</td>\n",
       "      <td>NaN</td>\n",
       "      <td>NaN</td>\n",
       "      <td>...</td>\n",
       "      <td>NaN</td>\n",
       "      <td>NaN</td>\n",
       "      <td>NaN</td>\n",
       "      <td>NaN</td>\n",
       "      <td>NaN</td>\n",
       "      <td>NaN</td>\n",
       "      <td>NaN</td>\n",
       "      <td>NaN</td>\n",
       "      <td>NaN</td>\n",
       "      <td>NaN</td>\n",
       "    </tr>\n",
       "    <tr>\n",
       "      <th>...</th>\n",
       "      <td>...</td>\n",
       "      <td>...</td>\n",
       "      <td>...</td>\n",
       "      <td>...</td>\n",
       "      <td>...</td>\n",
       "      <td>...</td>\n",
       "      <td>...</td>\n",
       "      <td>...</td>\n",
       "      <td>...</td>\n",
       "      <td>...</td>\n",
       "      <td>...</td>\n",
       "      <td>...</td>\n",
       "      <td>...</td>\n",
       "      <td>...</td>\n",
       "      <td>...</td>\n",
       "      <td>...</td>\n",
       "      <td>...</td>\n",
       "      <td>...</td>\n",
       "      <td>...</td>\n",
       "      <td>...</td>\n",
       "      <td>...</td>\n",
       "    </tr>\n",
       "    <tr>\n",
       "      <th>34881</th>\n",
       "      <td>unknown</td>\n",
       "      <td>The Water Diviner</td>\n",
       "      <td>The film begins in 1919, just after World War ...</td>\n",
       "      <td>NaN</td>\n",
       "      <td>NaN</td>\n",
       "      <td>NaN</td>\n",
       "      <td>NaN</td>\n",
       "      <td>NaN</td>\n",
       "      <td>NaN</td>\n",
       "      <td>NaN</td>\n",
       "      <td>...</td>\n",
       "      <td>NaN</td>\n",
       "      <td>NaN</td>\n",
       "      <td>NaN</td>\n",
       "      <td>NaN</td>\n",
       "      <td>NaN</td>\n",
       "      <td>NaN</td>\n",
       "      <td>NaN</td>\n",
       "      <td>NaN</td>\n",
       "      <td>NaN</td>\n",
       "      <td>NaN</td>\n",
       "    </tr>\n",
       "    <tr>\n",
       "      <th>34882</th>\n",
       "      <td>comedy</td>\n",
       "      <td>Çalgı Çengi İkimiz</td>\n",
       "      <td>Two musicians, Salih and Gürkan, described the...</td>\n",
       "      <td>NaN</td>\n",
       "      <td>NaN</td>\n",
       "      <td>NaN</td>\n",
       "      <td>NaN</td>\n",
       "      <td>NaN</td>\n",
       "      <td>NaN</td>\n",
       "      <td>NaN</td>\n",
       "      <td>...</td>\n",
       "      <td>NaN</td>\n",
       "      <td>NaN</td>\n",
       "      <td>NaN</td>\n",
       "      <td>NaN</td>\n",
       "      <td>NaN</td>\n",
       "      <td>NaN</td>\n",
       "      <td>NaN</td>\n",
       "      <td>NaN</td>\n",
       "      <td>NaN</td>\n",
       "      <td>NaN</td>\n",
       "    </tr>\n",
       "    <tr>\n",
       "      <th>34883</th>\n",
       "      <td>comedy</td>\n",
       "      <td>Olanlar Oldu</td>\n",
       "      <td>Zafer, a sailor living with his mother Döndü i...</td>\n",
       "      <td>NaN</td>\n",
       "      <td>NaN</td>\n",
       "      <td>NaN</td>\n",
       "      <td>NaN</td>\n",
       "      <td>NaN</td>\n",
       "      <td>NaN</td>\n",
       "      <td>NaN</td>\n",
       "      <td>...</td>\n",
       "      <td>NaN</td>\n",
       "      <td>NaN</td>\n",
       "      <td>NaN</td>\n",
       "      <td>NaN</td>\n",
       "      <td>NaN</td>\n",
       "      <td>NaN</td>\n",
       "      <td>NaN</td>\n",
       "      <td>NaN</td>\n",
       "      <td>NaN</td>\n",
       "      <td>NaN</td>\n",
       "    </tr>\n",
       "    <tr>\n",
       "      <th>34884</th>\n",
       "      <td>romantic comedy</td>\n",
       "      <td>Non-Transferable</td>\n",
       "      <td>The film centres around a young woman named Am...</td>\n",
       "      <td>NaN</td>\n",
       "      <td>NaN</td>\n",
       "      <td>NaN</td>\n",
       "      <td>NaN</td>\n",
       "      <td>NaN</td>\n",
       "      <td>NaN</td>\n",
       "      <td>NaN</td>\n",
       "      <td>...</td>\n",
       "      <td>NaN</td>\n",
       "      <td>NaN</td>\n",
       "      <td>NaN</td>\n",
       "      <td>NaN</td>\n",
       "      <td>NaN</td>\n",
       "      <td>NaN</td>\n",
       "      <td>NaN</td>\n",
       "      <td>NaN</td>\n",
       "      <td>NaN</td>\n",
       "      <td>NaN</td>\n",
       "    </tr>\n",
       "    <tr>\n",
       "      <th>34885</th>\n",
       "      <td>romantic</td>\n",
       "      <td>İstanbul Kırmızısı</td>\n",
       "      <td>The writer Orhan Şahin returns to İstanbul aft...</td>\n",
       "      <td>NaN</td>\n",
       "      <td>NaN</td>\n",
       "      <td>NaN</td>\n",
       "      <td>NaN</td>\n",
       "      <td>NaN</td>\n",
       "      <td>NaN</td>\n",
       "      <td>NaN</td>\n",
       "      <td>...</td>\n",
       "      <td>NaN</td>\n",
       "      <td>NaN</td>\n",
       "      <td>NaN</td>\n",
       "      <td>NaN</td>\n",
       "      <td>NaN</td>\n",
       "      <td>NaN</td>\n",
       "      <td>NaN</td>\n",
       "      <td>NaN</td>\n",
       "      <td>NaN</td>\n",
       "      <td>NaN</td>\n",
       "    </tr>\n",
       "  </tbody>\n",
       "</table>\n",
       "<p>34886 rows × 106 columns</p>\n",
       "</div>"
      ],
      "text/plain": [
       "                 Genre                             Title  \\\n",
       "0              unknown            Kansas Saloon Smashers   \n",
       "1              unknown     Love by the Light of the Moon   \n",
       "2              unknown           The Martyred Presidents   \n",
       "3              unknown  Terrible Teddy, the Grizzly King   \n",
       "4              unknown            Jack and the Beanstalk   \n",
       "...                ...                               ...   \n",
       "34881          unknown                 The Water Diviner   \n",
       "34882           comedy                Çalgı Çengi İkimiz   \n",
       "34883           comedy                      Olanlar Oldu   \n",
       "34884  romantic comedy                  Non-Transferable   \n",
       "34885         romantic                İstanbul Kırmızısı   \n",
       "\n",
       "                                                    Plot  bio-drama  family  \\\n",
       "0      A bartender is working at a saloon, serving dr...        NaN     NaN   \n",
       "1      The moon, painted with a smiling face hangs ov...        NaN     NaN   \n",
       "2      The film, just over a minute long, is composed...        NaN     NaN   \n",
       "3      Lasting just 61 seconds and consisting of two ...        NaN     NaN   \n",
       "4      The earliest known adaptation of the classic f...        NaN     NaN   \n",
       "...                                                  ...        ...     ...   \n",
       "34881  The film begins in 1919, just after World War ...        NaN     NaN   \n",
       "34882  Two musicians, Salih and Gürkan, described the...        NaN     NaN   \n",
       "34883  Zafer, a sailor living with his mother Döndü i...        NaN     NaN   \n",
       "34884  The film centres around a young woman named Am...        NaN     NaN   \n",
       "34885  The writer Orhan Şahin returns to İstanbul aft...        NaN     NaN   \n",
       "\n",
       "       american football  social  spy  sexploitation  fantasy  ...  \\\n",
       "0                    NaN     NaN  NaN            NaN      NaN  ...   \n",
       "1                    NaN     NaN  NaN            NaN      NaN  ...   \n",
       "2                    NaN     NaN  NaN            NaN      NaN  ...   \n",
       "3                    NaN     NaN  NaN            NaN      NaN  ...   \n",
       "4                    NaN     NaN  NaN            NaN      NaN  ...   \n",
       "...                  ...     ...  ...            ...      ...  ...   \n",
       "34881                NaN     NaN  NaN            NaN      NaN  ...   \n",
       "34882                NaN     NaN  NaN            NaN      NaN  ...   \n",
       "34883                NaN     NaN  NaN            NaN      NaN  ...   \n",
       "34884                NaN     NaN  NaN            NaN      NaN  ...   \n",
       "34885                NaN     NaN  NaN            NaN      NaN  ...   \n",
       "\n",
       "       compilation  swashbuckler  science fiction  martial arts  \\\n",
       "0              NaN           NaN              NaN           NaN   \n",
       "1              NaN           NaN              NaN           NaN   \n",
       "2              NaN           NaN              NaN           NaN   \n",
       "3              NaN           NaN              NaN           NaN   \n",
       "4              NaN           NaN              NaN           NaN   \n",
       "...            ...           ...              ...           ...   \n",
       "34881          NaN           NaN              NaN           NaN   \n",
       "34882          NaN           NaN              NaN           NaN   \n",
       "34883          NaN           NaN              NaN           NaN   \n",
       "34884          NaN           NaN              NaN           NaN   \n",
       "34885          NaN           NaN              NaN           NaN   \n",
       "\n",
       "       outlaw biker film  dance  educational  post-apocalyptic, zombie  \\\n",
       "0                    NaN    NaN          NaN                       NaN   \n",
       "1                    NaN    NaN          NaN                       NaN   \n",
       "2                    NaN    NaN          NaN                       NaN   \n",
       "3                    NaN    NaN          NaN                       NaN   \n",
       "4                    NaN    NaN          NaN                       NaN   \n",
       "...                  ...    ...          ...                       ...   \n",
       "34881                NaN    NaN          NaN                       NaN   \n",
       "34882                NaN    NaN          NaN                       NaN   \n",
       "34883                NaN    NaN          NaN                       NaN   \n",
       "34884                NaN    NaN          NaN                       NaN   \n",
       "34885                NaN    NaN          NaN                       NaN   \n",
       "\n",
       "       kung fu  exploitation  \n",
       "0          NaN           NaN  \n",
       "1          NaN           NaN  \n",
       "2          NaN           NaN  \n",
       "3          NaN           NaN  \n",
       "4          NaN           NaN  \n",
       "...        ...           ...  \n",
       "34881      NaN           NaN  \n",
       "34882      NaN           NaN  \n",
       "34883      NaN           NaN  \n",
       "34884      NaN           NaN  \n",
       "34885      NaN           NaN  \n",
       "\n",
       "[34886 rows x 106 columns]"
      ]
     },
     "execution_count": 65,
     "metadata": {},
     "output_type": "execute_result"
    }
   ],
   "source": [
    "genre_mhe"
   ]
  },
  {
   "cell_type": "code",
   "execution_count": 66,
   "id": "3b50661b",
   "metadata": {},
   "outputs": [
    {
     "data": {
      "text/plain": [
       "19"
      ]
     },
     "execution_count": 66,
     "metadata": {},
     "output_type": "execute_result"
    }
   ],
   "source": [
    "len(genre_mhe) - genre_mhe['devotional'].isna().sum()"
   ]
  },
  {
   "cell_type": "code",
   "execution_count": 67,
   "id": "d78aa7f3",
   "metadata": {},
   "outputs": [
    {
     "data": {
      "text/plain": [
       "Int64Index([    0,     3,     4,     5,     8,     9,    25,    27,    28,\n",
       "               34,\n",
       "            ...\n",
       "            34823, 34826, 34827, 34828, 34830, 34836, 34878, 34879, 34880,\n",
       "            34881],\n",
       "           dtype='int64', length=6110)"
      ]
     },
     "execution_count": 67,
     "metadata": {},
     "output_type": "execute_result"
    }
   ],
   "source": [
    "nan_ind = genre_mhe[genre_mhe.drop(['Genre','Title','Plot'],axis = 1).isna().all(axis = 1)].index\n",
    "nan_ind"
   ]
  },
  {
   "cell_type": "code",
   "execution_count": 68,
   "id": "828d550e",
   "metadata": {},
   "outputs": [],
   "source": [
    "subset_genre_mhe = genre_mhe.loc[nan_ind]\n",
    "for genre in new_genre_list:\n",
    "    ind = subset_genre_mhe[subset_genre_mhe['Plot'].str.contains(genre,case = False)].index\n",
    "    genre_mhe.loc[ind,genre] = 1"
   ]
  },
  {
   "cell_type": "code",
   "execution_count": 69,
   "id": "2f4b6706",
   "metadata": {},
   "outputs": [
    {
     "data": {
      "text/html": [
       "<div>\n",
       "<style scoped>\n",
       "    .dataframe tbody tr th:only-of-type {\n",
       "        vertical-align: middle;\n",
       "    }\n",
       "\n",
       "    .dataframe tbody tr th {\n",
       "        vertical-align: top;\n",
       "    }\n",
       "\n",
       "    .dataframe thead th {\n",
       "        text-align: right;\n",
       "    }\n",
       "</style>\n",
       "<table border=\"1\" class=\"dataframe\">\n",
       "  <thead>\n",
       "    <tr style=\"text-align: right;\">\n",
       "      <th></th>\n",
       "      <th>Genre</th>\n",
       "      <th>Title</th>\n",
       "      <th>Plot</th>\n",
       "      <th>bio-drama</th>\n",
       "      <th>family</th>\n",
       "      <th>american football</th>\n",
       "      <th>social</th>\n",
       "      <th>spy</th>\n",
       "      <th>sexploitation</th>\n",
       "      <th>fantasy</th>\n",
       "      <th>...</th>\n",
       "      <th>compilation</th>\n",
       "      <th>swashbuckler</th>\n",
       "      <th>science fiction</th>\n",
       "      <th>martial arts</th>\n",
       "      <th>outlaw biker film</th>\n",
       "      <th>dance</th>\n",
       "      <th>educational</th>\n",
       "      <th>post-apocalyptic, zombie</th>\n",
       "      <th>kung fu</th>\n",
       "      <th>exploitation</th>\n",
       "    </tr>\n",
       "  </thead>\n",
       "  <tbody>\n",
       "    <tr>\n",
       "      <th>0</th>\n",
       "      <td>unknown</td>\n",
       "      <td>Kansas Saloon Smashers</td>\n",
       "      <td>A bartender is working at a saloon, serving dr...</td>\n",
       "      <td>NaN</td>\n",
       "      <td>NaN</td>\n",
       "      <td>NaN</td>\n",
       "      <td>NaN</td>\n",
       "      <td>NaN</td>\n",
       "      <td>NaN</td>\n",
       "      <td>NaN</td>\n",
       "      <td>...</td>\n",
       "      <td>NaN</td>\n",
       "      <td>NaN</td>\n",
       "      <td>NaN</td>\n",
       "      <td>NaN</td>\n",
       "      <td>NaN</td>\n",
       "      <td>NaN</td>\n",
       "      <td>NaN</td>\n",
       "      <td>NaN</td>\n",
       "      <td>NaN</td>\n",
       "      <td>NaN</td>\n",
       "    </tr>\n",
       "    <tr>\n",
       "      <th>1</th>\n",
       "      <td>unknown</td>\n",
       "      <td>Love by the Light of the Moon</td>\n",
       "      <td>The moon, painted with a smiling face hangs ov...</td>\n",
       "      <td>NaN</td>\n",
       "      <td>NaN</td>\n",
       "      <td>NaN</td>\n",
       "      <td>NaN</td>\n",
       "      <td>NaN</td>\n",
       "      <td>NaN</td>\n",
       "      <td>NaN</td>\n",
       "      <td>...</td>\n",
       "      <td>NaN</td>\n",
       "      <td>NaN</td>\n",
       "      <td>NaN</td>\n",
       "      <td>NaN</td>\n",
       "      <td>NaN</td>\n",
       "      <td>NaN</td>\n",
       "      <td>NaN</td>\n",
       "      <td>NaN</td>\n",
       "      <td>NaN</td>\n",
       "      <td>NaN</td>\n",
       "    </tr>\n",
       "    <tr>\n",
       "      <th>2</th>\n",
       "      <td>unknown</td>\n",
       "      <td>The Martyred Presidents</td>\n",
       "      <td>The film, just over a minute long, is composed...</td>\n",
       "      <td>NaN</td>\n",
       "      <td>NaN</td>\n",
       "      <td>NaN</td>\n",
       "      <td>NaN</td>\n",
       "      <td>NaN</td>\n",
       "      <td>NaN</td>\n",
       "      <td>NaN</td>\n",
       "      <td>...</td>\n",
       "      <td>NaN</td>\n",
       "      <td>NaN</td>\n",
       "      <td>NaN</td>\n",
       "      <td>NaN</td>\n",
       "      <td>NaN</td>\n",
       "      <td>NaN</td>\n",
       "      <td>NaN</td>\n",
       "      <td>NaN</td>\n",
       "      <td>NaN</td>\n",
       "      <td>NaN</td>\n",
       "    </tr>\n",
       "    <tr>\n",
       "      <th>3</th>\n",
       "      <td>unknown</td>\n",
       "      <td>Terrible Teddy, the Grizzly King</td>\n",
       "      <td>Lasting just 61 seconds and consisting of two ...</td>\n",
       "      <td>NaN</td>\n",
       "      <td>NaN</td>\n",
       "      <td>NaN</td>\n",
       "      <td>NaN</td>\n",
       "      <td>NaN</td>\n",
       "      <td>NaN</td>\n",
       "      <td>NaN</td>\n",
       "      <td>...</td>\n",
       "      <td>NaN</td>\n",
       "      <td>NaN</td>\n",
       "      <td>NaN</td>\n",
       "      <td>NaN</td>\n",
       "      <td>NaN</td>\n",
       "      <td>NaN</td>\n",
       "      <td>NaN</td>\n",
       "      <td>NaN</td>\n",
       "      <td>NaN</td>\n",
       "      <td>NaN</td>\n",
       "    </tr>\n",
       "    <tr>\n",
       "      <th>4</th>\n",
       "      <td>unknown</td>\n",
       "      <td>Jack and the Beanstalk</td>\n",
       "      <td>The earliest known adaptation of the classic f...</td>\n",
       "      <td>NaN</td>\n",
       "      <td>NaN</td>\n",
       "      <td>NaN</td>\n",
       "      <td>NaN</td>\n",
       "      <td>NaN</td>\n",
       "      <td>NaN</td>\n",
       "      <td>NaN</td>\n",
       "      <td>...</td>\n",
       "      <td>NaN</td>\n",
       "      <td>NaN</td>\n",
       "      <td>NaN</td>\n",
       "      <td>NaN</td>\n",
       "      <td>NaN</td>\n",
       "      <td>NaN</td>\n",
       "      <td>NaN</td>\n",
       "      <td>NaN</td>\n",
       "      <td>NaN</td>\n",
       "      <td>NaN</td>\n",
       "    </tr>\n",
       "    <tr>\n",
       "      <th>...</th>\n",
       "      <td>...</td>\n",
       "      <td>...</td>\n",
       "      <td>...</td>\n",
       "      <td>...</td>\n",
       "      <td>...</td>\n",
       "      <td>...</td>\n",
       "      <td>...</td>\n",
       "      <td>...</td>\n",
       "      <td>...</td>\n",
       "      <td>...</td>\n",
       "      <td>...</td>\n",
       "      <td>...</td>\n",
       "      <td>...</td>\n",
       "      <td>...</td>\n",
       "      <td>...</td>\n",
       "      <td>...</td>\n",
       "      <td>...</td>\n",
       "      <td>...</td>\n",
       "      <td>...</td>\n",
       "      <td>...</td>\n",
       "      <td>...</td>\n",
       "    </tr>\n",
       "    <tr>\n",
       "      <th>34881</th>\n",
       "      <td>unknown</td>\n",
       "      <td>The Water Diviner</td>\n",
       "      <td>The film begins in 1919, just after World War ...</td>\n",
       "      <td>NaN</td>\n",
       "      <td>1.0</td>\n",
       "      <td>NaN</td>\n",
       "      <td>NaN</td>\n",
       "      <td>NaN</td>\n",
       "      <td>NaN</td>\n",
       "      <td>NaN</td>\n",
       "      <td>...</td>\n",
       "      <td>NaN</td>\n",
       "      <td>NaN</td>\n",
       "      <td>NaN</td>\n",
       "      <td>NaN</td>\n",
       "      <td>NaN</td>\n",
       "      <td>NaN</td>\n",
       "      <td>NaN</td>\n",
       "      <td>NaN</td>\n",
       "      <td>NaN</td>\n",
       "      <td>NaN</td>\n",
       "    </tr>\n",
       "    <tr>\n",
       "      <th>34882</th>\n",
       "      <td>comedy</td>\n",
       "      <td>Çalgı Çengi İkimiz</td>\n",
       "      <td>Two musicians, Salih and Gürkan, described the...</td>\n",
       "      <td>NaN</td>\n",
       "      <td>NaN</td>\n",
       "      <td>NaN</td>\n",
       "      <td>NaN</td>\n",
       "      <td>NaN</td>\n",
       "      <td>NaN</td>\n",
       "      <td>NaN</td>\n",
       "      <td>...</td>\n",
       "      <td>NaN</td>\n",
       "      <td>NaN</td>\n",
       "      <td>NaN</td>\n",
       "      <td>NaN</td>\n",
       "      <td>NaN</td>\n",
       "      <td>NaN</td>\n",
       "      <td>NaN</td>\n",
       "      <td>NaN</td>\n",
       "      <td>NaN</td>\n",
       "      <td>NaN</td>\n",
       "    </tr>\n",
       "    <tr>\n",
       "      <th>34883</th>\n",
       "      <td>comedy</td>\n",
       "      <td>Olanlar Oldu</td>\n",
       "      <td>Zafer, a sailor living with his mother Döndü i...</td>\n",
       "      <td>NaN</td>\n",
       "      <td>NaN</td>\n",
       "      <td>NaN</td>\n",
       "      <td>NaN</td>\n",
       "      <td>NaN</td>\n",
       "      <td>NaN</td>\n",
       "      <td>NaN</td>\n",
       "      <td>...</td>\n",
       "      <td>NaN</td>\n",
       "      <td>NaN</td>\n",
       "      <td>NaN</td>\n",
       "      <td>NaN</td>\n",
       "      <td>NaN</td>\n",
       "      <td>NaN</td>\n",
       "      <td>NaN</td>\n",
       "      <td>NaN</td>\n",
       "      <td>NaN</td>\n",
       "      <td>NaN</td>\n",
       "    </tr>\n",
       "    <tr>\n",
       "      <th>34884</th>\n",
       "      <td>romantic comedy</td>\n",
       "      <td>Non-Transferable</td>\n",
       "      <td>The film centres around a young woman named Am...</td>\n",
       "      <td>NaN</td>\n",
       "      <td>NaN</td>\n",
       "      <td>NaN</td>\n",
       "      <td>NaN</td>\n",
       "      <td>NaN</td>\n",
       "      <td>NaN</td>\n",
       "      <td>NaN</td>\n",
       "      <td>...</td>\n",
       "      <td>NaN</td>\n",
       "      <td>NaN</td>\n",
       "      <td>NaN</td>\n",
       "      <td>NaN</td>\n",
       "      <td>NaN</td>\n",
       "      <td>NaN</td>\n",
       "      <td>NaN</td>\n",
       "      <td>NaN</td>\n",
       "      <td>NaN</td>\n",
       "      <td>NaN</td>\n",
       "    </tr>\n",
       "    <tr>\n",
       "      <th>34885</th>\n",
       "      <td>romantic</td>\n",
       "      <td>İstanbul Kırmızısı</td>\n",
       "      <td>The writer Orhan Şahin returns to İstanbul aft...</td>\n",
       "      <td>NaN</td>\n",
       "      <td>NaN</td>\n",
       "      <td>NaN</td>\n",
       "      <td>NaN</td>\n",
       "      <td>NaN</td>\n",
       "      <td>NaN</td>\n",
       "      <td>NaN</td>\n",
       "      <td>...</td>\n",
       "      <td>NaN</td>\n",
       "      <td>NaN</td>\n",
       "      <td>NaN</td>\n",
       "      <td>NaN</td>\n",
       "      <td>NaN</td>\n",
       "      <td>NaN</td>\n",
       "      <td>NaN</td>\n",
       "      <td>NaN</td>\n",
       "      <td>NaN</td>\n",
       "      <td>NaN</td>\n",
       "    </tr>\n",
       "  </tbody>\n",
       "</table>\n",
       "<p>34886 rows × 106 columns</p>\n",
       "</div>"
      ],
      "text/plain": [
       "                 Genre                             Title  \\\n",
       "0              unknown            Kansas Saloon Smashers   \n",
       "1              unknown     Love by the Light of the Moon   \n",
       "2              unknown           The Martyred Presidents   \n",
       "3              unknown  Terrible Teddy, the Grizzly King   \n",
       "4              unknown            Jack and the Beanstalk   \n",
       "...                ...                               ...   \n",
       "34881          unknown                 The Water Diviner   \n",
       "34882           comedy                Çalgı Çengi İkimiz   \n",
       "34883           comedy                      Olanlar Oldu   \n",
       "34884  romantic comedy                  Non-Transferable   \n",
       "34885         romantic                İstanbul Kırmızısı   \n",
       "\n",
       "                                                    Plot  bio-drama  family  \\\n",
       "0      A bartender is working at a saloon, serving dr...        NaN     NaN   \n",
       "1      The moon, painted with a smiling face hangs ov...        NaN     NaN   \n",
       "2      The film, just over a minute long, is composed...        NaN     NaN   \n",
       "3      Lasting just 61 seconds and consisting of two ...        NaN     NaN   \n",
       "4      The earliest known adaptation of the classic f...        NaN     NaN   \n",
       "...                                                  ...        ...     ...   \n",
       "34881  The film begins in 1919, just after World War ...        NaN     1.0   \n",
       "34882  Two musicians, Salih and Gürkan, described the...        NaN     NaN   \n",
       "34883  Zafer, a sailor living with his mother Döndü i...        NaN     NaN   \n",
       "34884  The film centres around a young woman named Am...        NaN     NaN   \n",
       "34885  The writer Orhan Şahin returns to İstanbul aft...        NaN     NaN   \n",
       "\n",
       "       american football  social  spy  sexploitation  fantasy  ...  \\\n",
       "0                    NaN     NaN  NaN            NaN      NaN  ...   \n",
       "1                    NaN     NaN  NaN            NaN      NaN  ...   \n",
       "2                    NaN     NaN  NaN            NaN      NaN  ...   \n",
       "3                    NaN     NaN  NaN            NaN      NaN  ...   \n",
       "4                    NaN     NaN  NaN            NaN      NaN  ...   \n",
       "...                  ...     ...  ...            ...      ...  ...   \n",
       "34881                NaN     NaN  NaN            NaN      NaN  ...   \n",
       "34882                NaN     NaN  NaN            NaN      NaN  ...   \n",
       "34883                NaN     NaN  NaN            NaN      NaN  ...   \n",
       "34884                NaN     NaN  NaN            NaN      NaN  ...   \n",
       "34885                NaN     NaN  NaN            NaN      NaN  ...   \n",
       "\n",
       "       compilation  swashbuckler  science fiction  martial arts  \\\n",
       "0              NaN           NaN              NaN           NaN   \n",
       "1              NaN           NaN              NaN           NaN   \n",
       "2              NaN           NaN              NaN           NaN   \n",
       "3              NaN           NaN              NaN           NaN   \n",
       "4              NaN           NaN              NaN           NaN   \n",
       "...            ...           ...              ...           ...   \n",
       "34881          NaN           NaN              NaN           NaN   \n",
       "34882          NaN           NaN              NaN           NaN   \n",
       "34883          NaN           NaN              NaN           NaN   \n",
       "34884          NaN           NaN              NaN           NaN   \n",
       "34885          NaN           NaN              NaN           NaN   \n",
       "\n",
       "       outlaw biker film  dance  educational  post-apocalyptic, zombie  \\\n",
       "0                    NaN    NaN          NaN                       NaN   \n",
       "1                    NaN    NaN          NaN                       NaN   \n",
       "2                    NaN    NaN          NaN                       NaN   \n",
       "3                    NaN    NaN          NaN                       NaN   \n",
       "4                    NaN    NaN          NaN                       NaN   \n",
       "...                  ...    ...          ...                       ...   \n",
       "34881                NaN    NaN          NaN                       NaN   \n",
       "34882                NaN    NaN          NaN                       NaN   \n",
       "34883                NaN    NaN          NaN                       NaN   \n",
       "34884                NaN    NaN          NaN                       NaN   \n",
       "34885                NaN    NaN          NaN                       NaN   \n",
       "\n",
       "       kung fu  exploitation  \n",
       "0          NaN           NaN  \n",
       "1          NaN           NaN  \n",
       "2          NaN           NaN  \n",
       "3          NaN           NaN  \n",
       "4          NaN           NaN  \n",
       "...        ...           ...  \n",
       "34881      NaN           NaN  \n",
       "34882      NaN           NaN  \n",
       "34883      NaN           NaN  \n",
       "34884      NaN           NaN  \n",
       "34885      NaN           NaN  \n",
       "\n",
       "[34886 rows x 106 columns]"
      ]
     },
     "execution_count": 69,
     "metadata": {},
     "output_type": "execute_result"
    }
   ],
   "source": [
    "genre_mhe"
   ]
  },
  {
   "cell_type": "code",
   "execution_count": 70,
   "id": "1984502b",
   "metadata": {},
   "outputs": [
    {
     "data": {
      "text/plain": [
       "19"
      ]
     },
     "execution_count": 70,
     "metadata": {},
     "output_type": "execute_result"
    }
   ],
   "source": [
    "len(genre_mhe) - genre_mhe['devotional'].isna().sum()"
   ]
  },
  {
   "cell_type": "code",
   "execution_count": 71,
   "id": "7ee83d6c",
   "metadata": {},
   "outputs": [],
   "source": [
    "#genre_mhe[genre_mhe.drop(['Genre','Title','Plot'],axis = 1).isna().all(axis = 1)]"
   ]
  },
  {
   "cell_type": "code",
   "execution_count": 72,
   "id": "0083c15f",
   "metadata": {},
   "outputs": [],
   "source": [
    "#genre_mhe[['historic','period film','historic','period','sword']]"
   ]
  },
  {
   "cell_type": "code",
   "execution_count": 73,
   "id": "28ddd0be",
   "metadata": {},
   "outputs": [],
   "source": [
    "#genre_mhe.drop(genre_mhe[genre_mhe.drop(['Genre','Title','Plot'],axis = 1).isna().all(axis = 1)].index)"
   ]
  },
  {
   "cell_type": "code",
   "execution_count": 74,
   "id": "ba26b98d",
   "metadata": {},
   "outputs": [
    {
     "data": {
      "text/html": [
       "<div>\n",
       "<style scoped>\n",
       "    .dataframe tbody tr th:only-of-type {\n",
       "        vertical-align: middle;\n",
       "    }\n",
       "\n",
       "    .dataframe tbody tr th {\n",
       "        vertical-align: top;\n",
       "    }\n",
       "\n",
       "    .dataframe thead th {\n",
       "        text-align: right;\n",
       "    }\n",
       "</style>\n",
       "<table border=\"1\" class=\"dataframe\">\n",
       "  <thead>\n",
       "    <tr style=\"text-align: right;\">\n",
       "      <th></th>\n",
       "      <th>Genre</th>\n",
       "      <th>Title</th>\n",
       "      <th>Plot</th>\n",
       "      <th>bio-drama</th>\n",
       "      <th>family</th>\n",
       "      <th>american football</th>\n",
       "      <th>social</th>\n",
       "      <th>spy</th>\n",
       "      <th>sexploitation</th>\n",
       "      <th>fantasy</th>\n",
       "      <th>...</th>\n",
       "      <th>compilation</th>\n",
       "      <th>swashbuckler</th>\n",
       "      <th>science fiction</th>\n",
       "      <th>martial arts</th>\n",
       "      <th>outlaw biker film</th>\n",
       "      <th>dance</th>\n",
       "      <th>educational</th>\n",
       "      <th>post-apocalyptic, zombie</th>\n",
       "      <th>kung fu</th>\n",
       "      <th>exploitation</th>\n",
       "    </tr>\n",
       "  </thead>\n",
       "  <tbody>\n",
       "    <tr>\n",
       "      <th>0</th>\n",
       "      <td>unknown</td>\n",
       "      <td>Kansas Saloon Smashers</td>\n",
       "      <td>A bartender is working at a saloon, serving dr...</td>\n",
       "      <td>NaN</td>\n",
       "      <td>NaN</td>\n",
       "      <td>NaN</td>\n",
       "      <td>NaN</td>\n",
       "      <td>NaN</td>\n",
       "      <td>NaN</td>\n",
       "      <td>NaN</td>\n",
       "      <td>...</td>\n",
       "      <td>NaN</td>\n",
       "      <td>NaN</td>\n",
       "      <td>NaN</td>\n",
       "      <td>NaN</td>\n",
       "      <td>NaN</td>\n",
       "      <td>NaN</td>\n",
       "      <td>NaN</td>\n",
       "      <td>NaN</td>\n",
       "      <td>NaN</td>\n",
       "      <td>NaN</td>\n",
       "    </tr>\n",
       "  </tbody>\n",
       "</table>\n",
       "<p>1 rows × 106 columns</p>\n",
       "</div>"
      ],
      "text/plain": [
       "     Genre                   Title  \\\n",
       "0  unknown  Kansas Saloon Smashers   \n",
       "\n",
       "                                                Plot  bio-drama  family  \\\n",
       "0  A bartender is working at a saloon, serving dr...        NaN     NaN   \n",
       "\n",
       "   american football  social  spy  sexploitation  fantasy  ...  compilation  \\\n",
       "0                NaN     NaN  NaN            NaN      NaN  ...          NaN   \n",
       "\n",
       "   swashbuckler  science fiction  martial arts  outlaw biker film  dance  \\\n",
       "0           NaN              NaN           NaN                NaN    NaN   \n",
       "\n",
       "   educational  post-apocalyptic, zombie  kung fu  exploitation  \n",
       "0          NaN                       NaN      NaN           NaN  \n",
       "\n",
       "[1 rows x 106 columns]"
      ]
     },
     "execution_count": 74,
     "metadata": {},
     "output_type": "execute_result"
    }
   ],
   "source": [
    "genre_mhe.head(1)"
   ]
  },
  {
   "cell_type": "code",
   "execution_count": 75,
   "id": "dcf7caab",
   "metadata": {},
   "outputs": [
    {
     "data": {
      "text/plain": [
       "19"
      ]
     },
     "execution_count": 75,
     "metadata": {},
     "output_type": "execute_result"
    }
   ],
   "source": [
    "len(genre_mhe) - genre_mhe['devotional'].isna().sum()"
   ]
  },
  {
   "cell_type": "code",
   "execution_count": 86,
   "id": "81251602",
   "metadata": {},
   "outputs": [
    {
     "data": {
      "text/plain": [
       "70"
      ]
     },
     "execution_count": 86,
     "metadata": {},
     "output_type": "execute_result"
    }
   ],
   "source": [
    "len(genre_mhe) - genre_mhe['religious'].isna().sum()"
   ]
  },
  {
   "cell_type": "code",
   "execution_count": 87,
   "id": "30b76c5a",
   "metadata": {},
   "outputs": [
    {
     "data": {
      "text/plain": [
       "31"
      ]
     },
     "execution_count": 87,
     "metadata": {},
     "output_type": "execute_result"
    }
   ],
   "source": [
    "len(genre_mhe) - genre_mhe['mythology'].isna().sum()"
   ]
  },
  {
   "cell_type": "code",
   "execution_count": 88,
   "id": "25e72906",
   "metadata": {},
   "outputs": [
    {
     "data": {
      "text/plain": [
       "3"
      ]
     },
     "execution_count": 88,
     "metadata": {},
     "output_type": "execute_result"
    }
   ],
   "source": [
    "len(genre_mhe) - genre_mhe['muslim social'].isna().sum()"
   ]
  },
  {
   "cell_type": "code",
   "execution_count": 89,
   "id": "38efd5cb",
   "metadata": {},
   "outputs": [
    {
     "data": {
      "text/plain": [
       "1"
      ]
     },
     "execution_count": 89,
     "metadata": {},
     "output_type": "execute_result"
    }
   ],
   "source": [
    "len(genre_mhe) - genre_mhe['classic muslim social'].isna().sum()"
   ]
  },
  {
   "cell_type": "code",
   "execution_count": 90,
   "id": "aa4d49b1",
   "metadata": {},
   "outputs": [
    {
     "data": {
      "text/plain": [
       "124"
      ]
     },
     "execution_count": 90,
     "metadata": {},
     "output_type": "execute_result"
    }
   ],
   "source": [
    "19+70+31+3+1"
   ]
  },
  {
   "cell_type": "code",
   "execution_count": 159,
   "id": "f2c2317d",
   "metadata": {},
   "outputs": [
    {
     "data": {
      "text/plain": [
       "171.0"
      ]
     },
     "execution_count": 159,
     "metadata": {},
     "output_type": "execute_result"
    }
   ],
   "source": [
    "genre_mhe['martial arts'].sum()"
   ]
  },
  {
   "cell_type": "code",
   "execution_count": 161,
   "id": "3f0f81da",
   "metadata": {},
   "outputs": [
    {
     "data": {
      "text/plain": [
       "52.0"
      ]
     },
     "execution_count": 161,
     "metadata": {},
     "output_type": "execute_result"
    }
   ],
   "source": [
    "genre_mhe['kung fu'].sum()"
   ]
  },
  {
   "cell_type": "code",
   "execution_count": null,
   "id": "527b89ed",
   "metadata": {},
   "outputs": [],
   "source": [
    "['martial arts', 'martial-arts', 'kung fu']"
   ]
  },
  {
   "cell_type": "code",
   "execution_count": 160,
   "id": "5ebc33c7",
   "metadata": {},
   "outputs": [
    {
     "data": {
      "text/plain": [
       "4"
      ]
     },
     "execution_count": 160,
     "metadata": {},
     "output_type": "execute_result"
    }
   ],
   "source": [
    "len(genre_mhe) - genre_mhe['martial-arts'].isna().sum()"
   ]
  },
  {
   "cell_type": "code",
   "execution_count": 76,
   "id": "68d1d91e",
   "metadata": {},
   "outputs": [],
   "source": [
    "# l = 'history/ historical/  period film/historic/period/sword'.split('/')\n",
    "# k = []\n",
    "# for i in l:\n",
    "#     k.append(i.rstrip().lstrip())\n",
    "# k\n",
    "\n",
    "# m = [ i.rstrip().lstrip() for i in l ]\n",
    "# m"
   ]
  },
  {
   "cell_type": "code",
   "execution_count": 114,
   "id": "3b6b9f61",
   "metadata": {},
   "outputs": [
    {
     "name": "stdout",
     "output_type": "stream",
     "text": [
      "{'action': ['gangster'], 'sci-fi': ['science fiction'], 'romance': ['love', 'romantic'], 'kung fu': ['martial arts', 'martial-arts'], 'history': ['historical', 'period film', 'historic', 'period', 'sword'], 'fantasy': ['fantay'], 'biography': ['bio-pic', 'biopic', 'bio-drama', 'biographical'], 'costume': ['ancient-costume'], 'spy': ['detective'], 'children': [\"children's\"], 'musical': ['music', 'concert'], 'sports': ['american football'], 'animated': ['animation'], 'patriotic': ['independent'], 'devotional': ['mythology', 'religious', 'muslim social', 'classic muslim social'], 'documentary': ['semi-staged documentary', 'mockumentary', 'nature documentary'], 'film noir': ['neo-noir'], 'exploitation': ['sexploitation'], 'buddy cop': ['buddy cop, supernatural']}\n"
     ]
    }
   ],
   "source": [
    "raw_basic_genre = {}\n",
    "for val in basic_genre['basic - genre']:\n",
    "    temp = [i.rstrip().lstrip() for i in val.split('/')]\n",
    "    if len(temp) > 1:\n",
    "        raw_basic_genre[temp[0]] = temp[1:]\n",
    "print(raw_basic_genre)"
   ]
  },
  {
   "cell_type": "code",
   "execution_count": 100,
   "id": "72aa313e",
   "metadata": {},
   "outputs": [],
   "source": [
    "genre_mhe_test = genre_mhe.fillna(0)"
   ]
  },
  {
   "cell_type": "code",
   "execution_count": 101,
   "id": "e27ebec6",
   "metadata": {},
   "outputs": [
    {
     "data": {
      "text/plain": [
       "0        0.0\n",
       "1        0.0\n",
       "2        0.0\n",
       "3        0.0\n",
       "4        0.0\n",
       "        ... \n",
       "34881    0.0\n",
       "34882    0.0\n",
       "34883    0.0\n",
       "34884    0.0\n",
       "34885    0.0\n",
       "Name: gangster, Length: 34886, dtype: float64"
      ]
     },
     "execution_count": 101,
     "metadata": {},
     "output_type": "execute_result"
    }
   ],
   "source": [
    "genre_mhe_test['gangster']"
   ]
  },
  {
   "cell_type": "code",
   "execution_count": 108,
   "id": "c0eb586e",
   "metadata": {},
   "outputs": [
    {
     "data": {
      "text/plain": [
       "0        0.0\n",
       "1        0.0\n",
       "2        0.0\n",
       "3        0.0\n",
       "4        0.0\n",
       "        ... \n",
       "34881    0.0\n",
       "34882    0.0\n",
       "34883    0.0\n",
       "34884    0.0\n",
       "34885    0.0\n",
       "Name: devotional, Length: 34886, dtype: float64"
      ]
     },
     "execution_count": 108,
     "metadata": {},
     "output_type": "execute_result"
    }
   ],
   "source": [
    "genre_mhe_test['devotional']"
   ]
  },
  {
   "cell_type": "code",
   "execution_count": 99,
   "id": "3bbe809d",
   "metadata": {},
   "outputs": [
    {
     "data": {
      "text/plain": [
       "0       NaN\n",
       "1       NaN\n",
       "2       NaN\n",
       "3       NaN\n",
       "4       NaN\n",
       "         ..\n",
       "34881   NaN\n",
       "34882   NaN\n",
       "34883   NaN\n",
       "34884   NaN\n",
       "34885   NaN\n",
       "Name: gangster, Length: 34886, dtype: float64"
      ]
     },
     "execution_count": 99,
     "metadata": {},
     "output_type": "execute_result"
    }
   ],
   "source": [
    "genre_mhe['gangster']"
   ]
  },
  {
   "cell_type": "code",
   "execution_count": 138,
   "id": "0b088004",
   "metadata": {},
   "outputs": [
    {
     "data": {
      "text/html": [
       "<div>\n",
       "<style scoped>\n",
       "    .dataframe tbody tr th:only-of-type {\n",
       "        vertical-align: middle;\n",
       "    }\n",
       "\n",
       "    .dataframe tbody tr th {\n",
       "        vertical-align: top;\n",
       "    }\n",
       "\n",
       "    .dataframe thead th {\n",
       "        text-align: right;\n",
       "    }\n",
       "</style>\n",
       "<table border=\"1\" class=\"dataframe\">\n",
       "  <thead>\n",
       "    <tr style=\"text-align: right;\">\n",
       "      <th></th>\n",
       "      <th>h</th>\n",
       "      <th>a</th>\n",
       "      <th>b</th>\n",
       "    </tr>\n",
       "  </thead>\n",
       "  <tbody>\n",
       "    <tr>\n",
       "      <th>0</th>\n",
       "      <td>1</td>\n",
       "      <td>0</td>\n",
       "      <td>0</td>\n",
       "    </tr>\n",
       "    <tr>\n",
       "      <th>1</th>\n",
       "      <td>0</td>\n",
       "      <td>1</td>\n",
       "      <td>0</td>\n",
       "    </tr>\n",
       "    <tr>\n",
       "      <th>2</th>\n",
       "      <td>1</td>\n",
       "      <td>0</td>\n",
       "      <td>1</td>\n",
       "    </tr>\n",
       "    <tr>\n",
       "      <th>3</th>\n",
       "      <td>1</td>\n",
       "      <td>1</td>\n",
       "      <td>1</td>\n",
       "    </tr>\n",
       "  </tbody>\n",
       "</table>\n",
       "</div>"
      ],
      "text/plain": [
       "   h  a  b\n",
       "0  1  0  0\n",
       "1  0  1  0\n",
       "2  1  0  1\n",
       "3  1  1  1"
      ]
     },
     "execution_count": 138,
     "metadata": {},
     "output_type": "execute_result"
    }
   ],
   "source": [
    "random_df = pd.DataFrame({'h':[1,0,1,1],\n",
    "            'a':[0,1,0,1],\n",
    "             'b':[0,0,1,1]})\n",
    "random_df"
   ]
  },
  {
   "cell_type": "code",
   "execution_count": 139,
   "id": "7f497439",
   "metadata": {},
   "outputs": [
    {
     "data": {
      "text/html": [
       "<div>\n",
       "<style scoped>\n",
       "    .dataframe tbody tr th:only-of-type {\n",
       "        vertical-align: middle;\n",
       "    }\n",
       "\n",
       "    .dataframe tbody tr th {\n",
       "        vertical-align: top;\n",
       "    }\n",
       "\n",
       "    .dataframe thead th {\n",
       "        text-align: right;\n",
       "    }\n",
       "</style>\n",
       "<table border=\"1\" class=\"dataframe\">\n",
       "  <thead>\n",
       "    <tr style=\"text-align: right;\">\n",
       "      <th></th>\n",
       "      <th>h</th>\n",
       "      <th>a</th>\n",
       "      <th>b</th>\n",
       "    </tr>\n",
       "  </thead>\n",
       "  <tbody>\n",
       "    <tr>\n",
       "      <th>0</th>\n",
       "      <td>1</td>\n",
       "      <td>0</td>\n",
       "      <td>1</td>\n",
       "    </tr>\n",
       "    <tr>\n",
       "      <th>1</th>\n",
       "      <td>0</td>\n",
       "      <td>1</td>\n",
       "      <td>1</td>\n",
       "    </tr>\n",
       "    <tr>\n",
       "      <th>2</th>\n",
       "      <td>1</td>\n",
       "      <td>0</td>\n",
       "      <td>2</td>\n",
       "    </tr>\n",
       "    <tr>\n",
       "      <th>3</th>\n",
       "      <td>1</td>\n",
       "      <td>1</td>\n",
       "      <td>3</td>\n",
       "    </tr>\n",
       "  </tbody>\n",
       "</table>\n",
       "</div>"
      ],
      "text/plain": [
       "   h  a  b\n",
       "0  1  0  1\n",
       "1  0  1  1\n",
       "2  1  0  2\n",
       "3  1  1  3"
      ]
     },
     "execution_count": 139,
     "metadata": {},
     "output_type": "execute_result"
    }
   ],
   "source": [
    "random_df['b'] = random_df.sum(axis = 1)\n",
    "random_df"
   ]
  },
  {
   "cell_type": "code",
   "execution_count": null,
   "id": "509fe8be",
   "metadata": {},
   "outputs": [],
   "source": [
    "['a','b','c']\n",
    "l.append('d')"
   ]
  },
  {
   "cell_type": "code",
   "execution_count": 130,
   "id": "f952ed0e",
   "metadata": {},
   "outputs": [
    {
     "data": {
      "text/plain": [
       "{'action': ['gangster'],\n",
       " 'sci-fi': ['science fiction'],\n",
       " 'romance': ['love', 'romantic'],\n",
       " 'kung fu': ['martial arts', 'martial-arts'],\n",
       " 'history': ['historical', 'period film', 'historic', 'period', 'sword'],\n",
       " 'fantasy': ['fantay'],\n",
       " 'biography': ['bio-pic', 'biopic', 'bio-drama', 'biographical'],\n",
       " 'costume': ['ancient-costume'],\n",
       " 'spy': ['detective'],\n",
       " 'children': [\"children's\"],\n",
       " 'musical': ['music', 'concert'],\n",
       " 'sports': ['american football'],\n",
       " 'animated': ['animation'],\n",
       " 'patriotic': ['independent'],\n",
       " 'devotional': ['mythology',\n",
       "  'religious',\n",
       "  'muslim social',\n",
       "  'classic muslim social'],\n",
       " 'documentary': ['semi-staged documentary',\n",
       "  'mockumentary',\n",
       "  'nature documentary'],\n",
       " 'film noir': ['neo-noir'],\n",
       " 'exploitation': ['sexploitation'],\n",
       " 'buddy cop': ['buddy cop, supernatural']}"
      ]
     },
     "execution_count": 130,
     "metadata": {},
     "output_type": "execute_result"
    }
   ],
   "source": [
    "raw_basic_genre"
   ]
  },
  {
   "cell_type": "code",
   "execution_count": 144,
   "id": "870825cc",
   "metadata": {},
   "outputs": [],
   "source": [
    "def col_merge(df_genre):\n",
    "    df = df_genre.copy()\n",
    "    for key,lst in raw_basic_genre.items():\n",
    "        lst_copy = lst + [key]\n",
    "        print(lst_copy)\n",
    "#         display(df[lst_copy])\n",
    "        df[key] = df[lst_copy].sum(axis = 1)\n",
    "#         display(df[lst_copy].sum(axis = 1))\n",
    "        df = df.drop(columns = lst)\n",
    "    return df\n",
    "        "
   ]
  },
  {
   "cell_type": "code",
   "execution_count": 145,
   "id": "18dad382",
   "metadata": {},
   "outputs": [
    {
     "name": "stdout",
     "output_type": "stream",
     "text": [
      "['gangster', 'action']\n",
      "['science fiction', 'sci-fi']\n",
      "['love', 'romantic', 'romance']\n",
      "['martial arts', 'martial-arts', 'kung fu']\n",
      "['historical', 'period film', 'historic', 'period', 'sword', 'history']\n",
      "['fantay', 'fantasy']\n",
      "['bio-pic', 'biopic', 'bio-drama', 'biographical', 'biography']\n",
      "['ancient-costume', 'costume']\n",
      "['detective', 'spy']\n",
      "[\"children's\", 'children']\n",
      "['music', 'concert', 'musical']\n",
      "['american football', 'sports']\n",
      "['animation', 'animated']\n",
      "['independent', 'patriotic']\n",
      "['mythology', 'religious', 'muslim social', 'classic muslim social', 'devotional']\n",
      "['semi-staged documentary', 'mockumentary', 'nature documentary', 'documentary']\n",
      "['neo-noir', 'film noir']\n",
      "['sexploitation', 'exploitation']\n",
      "['buddy cop, supernatural', 'buddy cop']\n"
     ]
    },
    {
     "data": {
      "text/html": [
       "<div>\n",
       "<style scoped>\n",
       "    .dataframe tbody tr th:only-of-type {\n",
       "        vertical-align: middle;\n",
       "    }\n",
       "\n",
       "    .dataframe tbody tr th {\n",
       "        vertical-align: top;\n",
       "    }\n",
       "\n",
       "    .dataframe thead th {\n",
       "        text-align: right;\n",
       "    }\n",
       "</style>\n",
       "<table border=\"1\" class=\"dataframe\">\n",
       "  <thead>\n",
       "    <tr style=\"text-align: right;\">\n",
       "      <th></th>\n",
       "      <th>Genre</th>\n",
       "      <th>Title</th>\n",
       "      <th>Plot</th>\n",
       "      <th>family</th>\n",
       "      <th>social</th>\n",
       "      <th>spy</th>\n",
       "      <th>fantasy</th>\n",
       "      <th>musical</th>\n",
       "      <th>shakespearean</th>\n",
       "      <th>anthology</th>\n",
       "      <th>...</th>\n",
       "      <th>documentary</th>\n",
       "      <th>history</th>\n",
       "      <th>compilation</th>\n",
       "      <th>swashbuckler</th>\n",
       "      <th>outlaw biker film</th>\n",
       "      <th>dance</th>\n",
       "      <th>educational</th>\n",
       "      <th>post-apocalyptic, zombie</th>\n",
       "      <th>kung fu</th>\n",
       "      <th>exploitation</th>\n",
       "    </tr>\n",
       "  </thead>\n",
       "  <tbody>\n",
       "    <tr>\n",
       "      <th>0</th>\n",
       "      <td>unknown</td>\n",
       "      <td>Kansas Saloon Smashers</td>\n",
       "      <td>A bartender is working at a saloon, serving dr...</td>\n",
       "      <td>0.0</td>\n",
       "      <td>0.0</td>\n",
       "      <td>0.0</td>\n",
       "      <td>0.0</td>\n",
       "      <td>0.0</td>\n",
       "      <td>0.0</td>\n",
       "      <td>0.0</td>\n",
       "      <td>...</td>\n",
       "      <td>0.0</td>\n",
       "      <td>0.0</td>\n",
       "      <td>0.0</td>\n",
       "      <td>0.0</td>\n",
       "      <td>0.0</td>\n",
       "      <td>0.0</td>\n",
       "      <td>0.0</td>\n",
       "      <td>0.0</td>\n",
       "      <td>0.0</td>\n",
       "      <td>0.0</td>\n",
       "    </tr>\n",
       "    <tr>\n",
       "      <th>1</th>\n",
       "      <td>unknown</td>\n",
       "      <td>Love by the Light of the Moon</td>\n",
       "      <td>The moon, painted with a smiling face hangs ov...</td>\n",
       "      <td>0.0</td>\n",
       "      <td>0.0</td>\n",
       "      <td>0.0</td>\n",
       "      <td>0.0</td>\n",
       "      <td>0.0</td>\n",
       "      <td>0.0</td>\n",
       "      <td>0.0</td>\n",
       "      <td>...</td>\n",
       "      <td>0.0</td>\n",
       "      <td>0.0</td>\n",
       "      <td>0.0</td>\n",
       "      <td>0.0</td>\n",
       "      <td>0.0</td>\n",
       "      <td>0.0</td>\n",
       "      <td>0.0</td>\n",
       "      <td>0.0</td>\n",
       "      <td>0.0</td>\n",
       "      <td>0.0</td>\n",
       "    </tr>\n",
       "  </tbody>\n",
       "</table>\n",
       "<p>2 rows × 72 columns</p>\n",
       "</div>"
      ],
      "text/plain": [
       "     Genre                          Title  \\\n",
       "0  unknown         Kansas Saloon Smashers   \n",
       "1  unknown  Love by the Light of the Moon   \n",
       "\n",
       "                                                Plot  family  social  spy  \\\n",
       "0  A bartender is working at a saloon, serving dr...     0.0     0.0  0.0   \n",
       "1  The moon, painted with a smiling face hangs ov...     0.0     0.0  0.0   \n",
       "\n",
       "   fantasy  musical  shakespearean  anthology  ...  documentary  history  \\\n",
       "0      0.0      0.0            0.0        0.0  ...          0.0      0.0   \n",
       "1      0.0      0.0            0.0        0.0  ...          0.0      0.0   \n",
       "\n",
       "   compilation  swashbuckler  outlaw biker film  dance  educational  \\\n",
       "0          0.0           0.0                0.0    0.0          0.0   \n",
       "1          0.0           0.0                0.0    0.0          0.0   \n",
       "\n",
       "   post-apocalyptic, zombie  kung fu  exploitation  \n",
       "0                       0.0      0.0           0.0  \n",
       "1                       0.0      0.0           0.0  \n",
       "\n",
       "[2 rows x 72 columns]"
      ]
     },
     "execution_count": 145,
     "metadata": {},
     "output_type": "execute_result"
    }
   ],
   "source": [
    "result = col_merge(genre_mhe_test)\n",
    "result.head(2)"
   ]
  },
  {
   "cell_type": "code",
   "execution_count": 146,
   "id": "3f1c2462",
   "metadata": {},
   "outputs": [
    {
     "name": "stdout",
     "output_type": "stream",
     "text": [
      "<class 'pandas.core.series.Series'>\n",
      "RangeIndex: 34886 entries, 0 to 34885\n",
      "Series name: devotional\n",
      "Non-Null Count  Dtype  \n",
      "--------------  -----  \n",
      "34886 non-null  float64\n",
      "dtypes: float64(1)\n",
      "memory usage: 272.7 KB\n"
     ]
    }
   ],
   "source": [
    "result['devotional'].info()"
   ]
  },
  {
   "cell_type": "code",
   "execution_count": 162,
   "id": "9758b014",
   "metadata": {},
   "outputs": [
    {
     "data": {
      "text/plain": [
       "227.0"
      ]
     },
     "execution_count": 162,
     "metadata": {},
     "output_type": "execute_result"
    }
   ],
   "source": [
    "result['kung fu'].sum()"
   ]
  },
  {
   "cell_type": "code",
   "execution_count": 155,
   "id": "39f78fd6",
   "metadata": {},
   "outputs": [
    {
     "data": {
      "text/plain": [
       "Genre                                                devotional\n",
       "Title                                            Sri Manjunatha\n",
       "Plot          Manjunatha (Arjun Sarja) is an atheist, but a ...\n",
       "devotional                                                  1.0\n",
       "Name: 32100, dtype: object"
      ]
     },
     "execution_count": 155,
     "metadata": {},
     "output_type": "execute_result"
    }
   ],
   "source": [
    "genre_mhe.iloc[32100].dropna()"
   ]
  },
  {
   "cell_type": "code",
   "execution_count": 156,
   "id": "f182d35d",
   "metadata": {},
   "outputs": [
    {
     "data": {
      "text/plain": [
       "Genre                                                classic muslim social\n",
       "Title                                                         Mere Mehboob\n",
       "Plot                     While studying in Aligarh Muslim University, A...\n",
       "social                                                                 1.0\n",
       "muslim social                                                          1.0\n",
       "classic muslim social                                                  1.0\n",
       "Name: 24572, dtype: object"
      ]
     },
     "execution_count": 156,
     "metadata": {},
     "output_type": "execute_result"
    }
   ],
   "source": [
    "genre_mhe.iloc[24572].dropna()"
   ]
  },
  {
   "cell_type": "code",
   "execution_count": 148,
   "id": "556ec8d9",
   "metadata": {},
   "outputs": [
    {
     "data": {
      "text/plain": [
       "132"
      ]
     },
     "execution_count": 148,
     "metadata": {},
     "output_type": "execute_result"
    }
   ],
   "source": [
    "len(result) - len(result[result['devotional'] == 0])"
   ]
  },
  {
   "cell_type": "code",
   "execution_count": 153,
   "id": "1b8ba3f7",
   "metadata": {},
   "outputs": [
    {
     "data": {
      "text/plain": [
       "24572    2.0\n",
       "32100    1.0\n",
       "31758    1.0\n",
       "31731    1.0\n",
       "31732    1.0\n",
       "28191    1.0\n",
       "27101    1.0\n",
       "25784    1.0\n",
       "21102    1.0\n",
       "33092    1.0\n",
       "31756    1.0\n",
       "26312    1.0\n",
       "34734    1.0\n",
       "21999    1.0\n",
       "24346    1.0\n",
       "34687    1.0\n",
       "27919    1.0\n",
       "24819    1.0\n",
       "26332    1.0\n",
       "26561    1.0\n",
       "31780    1.0\n",
       "32438    1.0\n",
       "29254    1.0\n",
       "24385    1.0\n",
       "29309    1.0\n",
       "Name: devotional, dtype: float64"
      ]
     },
     "execution_count": 153,
     "metadata": {},
     "output_type": "execute_result"
    }
   ],
   "source": [
    "result['devotional'].sort_values(ascending=False).head(25)"
   ]
  },
  {
   "cell_type": "code",
   "execution_count": 136,
   "id": "514f137e",
   "metadata": {},
   "outputs": [
    {
     "data": {
      "text/plain": [
       "72"
      ]
     },
     "execution_count": 136,
     "metadata": {},
     "output_type": "execute_result"
    }
   ],
   "source": [
    "len(result.columns)"
   ]
  },
  {
   "cell_type": "markdown",
   "id": "e7e8c950",
   "metadata": {},
   "source": [
    "#### Label/Tags EDA"
   ]
  },
  {
   "cell_type": "code",
   "execution_count": null,
   "id": "b2c2febb",
   "metadata": {},
   "outputs": [],
   "source": [
    "len(genre_mhe) - len(genre_mhe[genre_mhe['road'].isna()])"
   ]
  },
  {
   "cell_type": "code",
   "execution_count": null,
   "id": "7a77d05a",
   "metadata": {},
   "outputs": [],
   "source": [
    "for col in genre_mhe.columns:\n",
    "    print(col , len(genre_mhe) - len(genre_mhe[genre_mhe[col].isna()]))"
   ]
  },
  {
   "cell_type": "code",
   "execution_count": null,
   "id": "cf017ccb",
   "metadata": {},
   "outputs": [],
   "source": []
  },
  {
   "cell_type": "code",
   "execution_count": null,
   "id": "922c3e11",
   "metadata": {},
   "outputs": [],
   "source": []
  },
  {
   "cell_type": "code",
   "execution_count": null,
   "id": "986d4a19",
   "metadata": {},
   "outputs": [],
   "source": []
  },
  {
   "cell_type": "code",
   "execution_count": null,
   "id": "961d462e",
   "metadata": {},
   "outputs": [],
   "source": []
  },
  {
   "cell_type": "code",
   "execution_count": null,
   "id": "9958f4ab",
   "metadata": {},
   "outputs": [],
   "source": []
  },
  {
   "cell_type": "code",
   "execution_count": null,
   "id": "2cfd47c1",
   "metadata": {},
   "outputs": [],
   "source": [
    "def replace_genre(row):\n",
    "    \n",
    "    for key,val in raw_basic_genre.items():\n",
    "        print(row,' v ',val)\n",
    "        if row != None and row in val:\n",
    "            print(\"yes\")\n",
    "            row = key\n",
    "            \n",
    "    return row      "
   ]
  },
  {
   "cell_type": "code",
   "execution_count": null,
   "id": "9426f2b4",
   "metadata": {},
   "outputs": [],
   "source": [
    "data['Genre'].iloc[[3532,15220]].apply(replace_genre)"
   ]
  },
  {
   "cell_type": "code",
   "execution_count": null,
   "id": "30bdfa23",
   "metadata": {},
   "outputs": [],
   "source": [
    "new_data = data['Genre'].apply(replace_genre)"
   ]
  },
  {
   "cell_type": "code",
   "execution_count": null,
   "id": "a725acdd",
   "metadata": {},
   "outputs": [],
   "source": [
    "new_data[new_data.str.contains('bio-pic')]"
   ]
  },
  {
   "cell_type": "code",
   "execution_count": null,
   "id": "c88583f1",
   "metadata": {},
   "outputs": [],
   "source": []
  },
  {
   "cell_type": "code",
   "execution_count": null,
   "id": "9d11c9e5",
   "metadata": {},
   "outputs": [],
   "source": [
    "clean_basic_genre = '|'.join(basic_genre['basic - genre'].str.rstrip().str.lstrip())"
   ]
  },
  {
   "cell_type": "code",
   "execution_count": null,
   "id": "f15bc496",
   "metadata": {},
   "outputs": [],
   "source": [
    "clean_basic_genre"
   ]
  },
  {
   "cell_type": "code",
   "execution_count": null,
   "id": "7fb251d4",
   "metadata": {},
   "outputs": [],
   "source": [
    "#data[~data['Genre'].str.contains(clean_basic_genre,case=False)]['Genre'].to_csv('remain_col.csv',index = False)"
   ]
  },
  {
   "cell_type": "code",
   "execution_count": null,
   "id": "237408fa",
   "metadata": {},
   "outputs": [],
   "source": []
  },
  {
   "cell_type": "code",
   "execution_count": null,
   "id": "7edc0ec6",
   "metadata": {},
   "outputs": [],
   "source": []
  },
  {
   "cell_type": "code",
   "execution_count": null,
   "id": "b77cb07d",
   "metadata": {},
   "outputs": [],
   "source": []
  },
  {
   "cell_type": "code",
   "execution_count": null,
   "id": "9652e878",
   "metadata": {},
   "outputs": [],
   "source": []
  },
  {
   "cell_type": "code",
   "execution_count": null,
   "id": "b15e8bea",
   "metadata": {},
   "outputs": [],
   "source": []
  },
  {
   "cell_type": "code",
   "execution_count": null,
   "id": "769d4bd0",
   "metadata": {},
   "outputs": [],
   "source": []
  },
  {
   "cell_type": "code",
   "execution_count": null,
   "id": "c8ec262e",
   "metadata": {},
   "outputs": [],
   "source": []
  },
  {
   "cell_type": "code",
   "execution_count": null,
   "id": "5bdafff7",
   "metadata": {},
   "outputs": [],
   "source": []
  },
  {
   "cell_type": "code",
   "execution_count": null,
   "id": "503c4ff8",
   "metadata": {},
   "outputs": [],
   "source": []
  },
  {
   "cell_type": "code",
   "execution_count": null,
   "id": "477bde6a",
   "metadata": {},
   "outputs": [],
   "source": []
  },
  {
   "cell_type": "code",
   "execution_count": null,
   "id": "816de226",
   "metadata": {},
   "outputs": [],
   "source": [
    "#reverse_dict"
   ]
  },
  {
   "cell_type": "code",
   "execution_count": null,
   "id": "08eced43",
   "metadata": {},
   "outputs": [],
   "source": [
    "# reverse_dict = {}\n",
    "# for lst1_key,lst1_val in raw_basic_genre.items():\n",
    "#     for value in lst1_val:\n",
    "#         reverse_dict[value] = lst1_key  "
   ]
  }
 ],
 "metadata": {
  "kernelspec": {
   "display_name": "Python 3",
   "language": "python",
   "name": "python3"
  },
  "language_info": {
   "codemirror_mode": {
    "name": "ipython",
    "version": 3
   },
   "file_extension": ".py",
   "mimetype": "text/x-python",
   "name": "python",
   "nbconvert_exporter": "python",
   "pygments_lexer": "ipython3",
   "version": "3.9.12"
  }
 },
 "nbformat": 4,
 "nbformat_minor": 5
}
